{
 "cells": [
  {
   "cell_type": "markdown",
   "metadata": {},
   "source": [
    "## Samenvatting Programming 1"
   ]
  },
  {
   "cell_type": "markdown",
   "metadata": {},
   "source": [
    "### Week 1\n",
    "\n",
    "- Installatie Anaconda  \n",
    "Vaardigheden:\n",
    "  - Anaconda Python distributie installeren op eigen laptop\n",
    "  - Jupyter Notebook starten\n",
    "  - Nieuwe mappen en een nieuw Python 3 Notebook maken\n",
    "  - Mappen en notebooks op eigen laptop terugvinden in de Windows Verkenner\n",
    "- Werken in Python 3 Notebook in Jupyter  \n",
    "Vaardigheden:\n",
    "  - Cellen gebruiken om code te schrijven en te runnen\n",
    "  - Commentaarregels toevoegen aan code\n",
    "- Eenvoudige output  \n",
    "Vaardigheden:\n",
    "  - Tekst afdrukken naar het scherm m.b.v. print()\n",
    "  - Waarden van variabelen afdrukken naar het scherm m.b.v. `print()`\n",
    "  - Effect van meerdere argumenten voor `print()`-functie kennen\n",
    "- Logische expressies in Python  \n",
    "Vaardigheden:\n",
    "  - Logische constanten in Python kennen (`True`, `False`)\n",
    "  - Logische expressies lezen en schrijven in Python \n",
    "  met (logische) constanten, variabelen en operatoren (`and`, `or`, `not`)\n",
    "  - Expressies in booleaanse algebra vertalen naar Python\n",
    "  - Vergelijkingsoperaten in Python kennen (`==`, `!=`)"
   ]
  },
  {
   "cell_type": "markdown",
   "metadata": {},
   "source": [
    "### Week 2\n",
    "\n",
    "- String formatting  \n",
    "Vaardigheden:\n",
    "  - De `format()`-functie kunnen gebruiken om waarden van variabelen op \n",
    "  een nette, leesbare manier af te drukken\n",
    "  - Placeholder details kunnen gebruiken:\n",
    "    - Argumenten uit opgegeven volgorde gebruiken\n",
    "    - Argumenten kunnen links, rechts en gecentreerd kunnen uitlijnen\n",
    "    - Aantal decimalen voor numerieke variabelen instellen en\n",
    "    de daarbij gebruikte afronding kennen\n",
    "  - Een nette, leesbare waarheidstabel afdrukken bij een gegeven \n",
    "  booleaanse expressie\n",
    "- Strings\n",
    "Vaardigheden:\n",
    "  - Een enkel karakter met behulp van een index uit een string ophalen\n",
    "  - Alle karakters in een string met behulp van indexeren gebruiken \n",
    "  in een for loop\n",
    "  - De `index()`-functie op een string gebruiken om de index van een \n",
    "  specifiek karakter in de string te bepalen\n",
    "  - Verschillende strings combineren met de `+`-operator\n",
    "- Talstelsels\n",
    "Vaardigheden:\n",
    "  - Getallen in een opgegeven talstelsel uitdrukken in het tientallig stelsel\n",
    "  - Getallen in het tientallig stelsel uit kunnen drukken in \n",
    "  een opgegeven talstelsel\n",
    "  - De gegeven algoritmen in Python kunnen lezen en zelf (opnieuw) coderen\n",
    "- Input vragen en gebruiken  \n",
    "Vaardigheden:\n",
    "  - `input()`-functie gebruiken om input van de gebruiker te vragen\n",
    "  - Om kunnen gaan met input in verschillende datatypen \n",
    "  (strings, integers, floats)"
   ]
  },
  {
   "cell_type": "markdown",
   "metadata": {},
   "source": [
    "### Week 3\n",
    "\n",
    "- Gebruik Jupyter Notebook  \n",
    "Vaardigheden:\n",
    "  - Zelf de eigenschappen en methoden van Python datatypen \n",
    "  opzoeken in Jupyter Notebook\n",
    "- Datatypen met meerdere elementen  \n",
    "(`list`, `tuple`, `set`)  \n",
    "Vaardigheden:\n",
    "  - Nieuwe variabele (`list`, `set`) zonder elementen maken\n",
    "  - Nieuwe variabele (`list`, `tuple`, `set`) met initiele inhoud maken\n",
    "  - Nieuwe elementen toevoegen aan een bestaande \n",
    "  `list` (`append`) of `set` (`add`)\n",
    "  - Bestaande elementen in een `list` of `set` verwijderen \n",
    "  met het `del`-statement\n",
    "  - Een element uit een `list` of `tuple` halen op basis van een index\n",
    "  - Negatieve indices gebruiken op `list` en `tuple`\n",
    "  - Een element in een `list` vervangen met behulp van een index\n",
    "  - Het aantal elementen van een variabele bepalen \n",
    "  met behulp van de `len()`-functie\n",
    "  - Slice notatie gebruiken om een deel van een `list` of `tuple` \n",
    "  op te halen\n",
    "  - Negatieve step gebruiken bij slicing om een (deel van een) \n",
    "  `list` of `tuple` om te keren\n",
    "- Bayes' theorem  \n",
    "Vaardigheden:\n",
    "  - Bayes' theorem toepassing op spamfiltering begrijpen\n",
    "  - Python implementatie van algoritme voor spamfiltering, \n",
    "  voor berichten van één woord, lezen en begrijpen\n",
    "  - Zelf Pythoncode schrijven voor spamfiltering, \n",
    "  met behulp van het gegeven voorbeeld, voor berichten van meerdere woorden\n"
   ]
  },
  {
   "cell_type": "markdown",
   "metadata": {},
   "source": [
    "### Week 7\n",
    "\n",
    "- Nested loops  \n",
    "Vaardigheden:\n",
    "  - `for`- en `while`-loops genest schrijven en \n",
    "  het effect op de loopvariabelen begrijpen en kunnen gebruiken \n",
    "  om gegeven use cases te implementeren\n",
    "- Nested lists  \n",
    "Vaardigheden:\n",
    "  - Maken en gebruiken van nested lists\n",
    "  - Opbouwen van een nested list met behulp van een loop\n",
    "  - Kunnen bepalen of een `list`-element een list of \n",
    "  een ander datatype is"
   ]
  },
  {
   "cell_type": "markdown",
   "metadata": {
    "collapsed": true
   },
   "source": [
    "### Week 8\n",
    "\n",
    "- Python library import syntax  \n",
    "Vaardigheden:\n",
    "  - Onderscheid maken tussen Python's ingebouwde functionaliteit, \n",
    "  functionaliteit uit modules in de Standard Library en \n",
    "  functionaliteit uit installeerbare packages en modules, \n",
    "  zoals meegeleverd met Anaconda\n",
    "  - Onderzoeken welke functionaliteit verpakt is in modules  \n",
    "  in de Standard Library of installeerbare packages, \n",
    "  zoals meegeleverd met Anaconda\n",
    "  - Gebruik maken van functionaliteit uit modules  \n",
    "  in de Standard Library of installeerbare packages, \n",
    "  zoals meegeleverd met Anaconda, \n",
    "  met behulp van het `import`-statement\n",
    "  - Hernoemen van modules en functies uit geïmporteerde modules\n",
    "  - Speciale IPython import statements (magic commands) als gebruikt voor \n",
    "  import en initialisatie (`%pylab`, `%matplotlib inline`) kunnen herkennen\n",
    "- Monte Carlo simulatie  \n",
    "Vaardigheden:\n",
    "  - Doel en proces van Monte Carlo-simulatie in eigen woorden \n",
    "  kunnen omschrijven\n",
    "  - Een Monte Carlo simulatie kunnen beschrijven om een onbekende \n",
    "  te kunnen benaderen\n",
    "  - De Monte Carlo simulatie in Python implementeren en leesbare \n",
    "  output genereren"
   ]
  },
  {
   "cell_type": "code",
   "execution_count": null,
   "metadata": {
    "collapsed": true
   },
   "outputs": [],
   "source": []
  }
 ],
 "metadata": {
  "kernelspec": {
   "display_name": "Python 3",
   "language": "python",
   "name": "python3"
  },
  "language_info": {
   "codemirror_mode": {
    "name": "ipython",
    "version": 3
   },
   "file_extension": ".py",
   "mimetype": "text/x-python",
   "name": "python",
   "nbconvert_exporter": "python",
   "pygments_lexer": "ipython3",
   "version": "3.5.1"
  }
 },
 "nbformat": 4,
 "nbformat_minor": 0
}
