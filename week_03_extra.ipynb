{
 "cells": [
  {
   "cell_type": "code",
   "execution_count": 2,
   "metadata": {
    "collapsed": true
   },
   "outputs": [],
   "source": [
    "## Python - list functies en operators\n",
    "\n",
    "# Type list. gevolgd door <Tab> om alle functies te zien\n",
    "# die je toe kunt passen op een string.\n",
    "# Het commando help(list) geeft ook uitleg over alle string functies."
   ]
  },
  {
   "cell_type": "code",
   "execution_count": 23,
   "metadata": {
    "collapsed": false
   },
   "outputs": [
    {
     "name": "stdout",
     "output_type": "stream",
     "text": [
      "['Nobody', 'expects', 'your', 'Spanish', 'words']\n",
      "['Nobody', 'expects', 'the', 'your', 'Spanish', 'words', 'Inquisition']\n",
      "['Nobody', 'expects', 'the', 'Spanish']\n",
      "['Nobody', 'expects', 'the', 'Spanish', 'Inqui...', 'Oh', 'bugger']\n"
     ]
    }
   ],
   "source": [
    "## Elementen toevoegen en verwijderen\n",
    "lijst = [\"Nobody\", \"expects\", \"your\", \"Spanish\", \"words\"]\n",
    "print(lijst)\n",
    "lijst.append(\"Inquisition\")\n",
    "lijst.insert(2, \"the\")\n",
    "print(lijst)\n",
    "lijst.remove(\"your\")\n",
    "del lijst[-2]  # verwijder het op een na laatste element\n",
    "lijst.pop()  # verwijder (en retourneer) het laatste element\n",
    "print(lijst)\n",
    "lijst.extend([\"Inqui...\", \"Oh\", \"bugger\"])\n",
    "# of: lijst = lijst + [\"Inqui...\", \"Oh\", \"bugger\"]\n",
    "print(lijst)"
   ]
  },
  {
   "cell_type": "code",
   "execution_count": 24,
   "metadata": {
    "collapsed": false
   },
   "outputs": [
    {
     "name": "stdout",
     "output_type": "stream",
     "text": [
      "['Nobody', 'expects', 'the', 'Spanish', 'Inqui...', 'Oh', 'bugger']\n",
      "Lengte: 7\n",
      "Komt expects voor: True\n",
      "Aantal keer expects: 1\n",
      "Eerste index expects: 1\n"
     ]
    }
   ],
   "source": [
    "## Eigenschappen en informatie\n",
    "print(lijst)\n",
    "print(\"Lengte:\", len(lijst))\n",
    "print(\"Komt \"\"expects\"\" voor:\", \"expects\" in lijst)\n",
    "print(\"Aantal keer \"\"expects\"\":\", lijst.count(\"expects\"))\n",
    "print(\"Eerste index \"\"expects\"\":\", lijst.index(\"expects\"))"
   ]
  },
  {
   "cell_type": "code",
   "execution_count": 30,
   "metadata": {
    "collapsed": false
   },
   "outputs": [
    {
     "name": "stdout",
     "output_type": "stream",
     "text": [
      "[2, 4, 6, 8] [2, 4, 6, 8]\n",
      "[2, 5, 8] [2, 5, 8]\n",
      "[2, 4, 6, 8] [2, 4, 6, 8]\n",
      "[2, 4, 6, 8] [2, 5, 8]\n"
     ]
    }
   ],
   "source": [
    "## De ene list is de andere niet, of toch wel?\n",
    "lijst_a = [2, 4, 6, 8]\n",
    "lijst_b = lijst_a\n",
    "print(lijst_a, lijst_b)\n",
    "lijst_b[1:3] = [5]\n",
    "print(lijst_a, lijst_b)\n",
    "\n",
    "# poging 2\n",
    "lijst_a = [2, 4, 6, 8]\n",
    "lijst_b = lijst_a.copy()  # of: lijst_b = lijst_a[:]\n",
    "print(lijst_a, lijst_b)\n",
    "lijst_b[1:3] = [5]\n",
    "print(lijst_a, lijst_b)"
   ]
  }
 ],
 "metadata": {
  "kernelspec": {
   "display_name": "Python 3",
   "language": "python",
   "name": "python3"
  },
  "language_info": {
   "codemirror_mode": {
    "name": "ipython",
    "version": 3
   },
   "file_extension": ".py",
   "mimetype": "text/x-python",
   "name": "python",
   "nbconvert_exporter": "python",
   "pygments_lexer": "ipython3",
   "version": "3.4.3"
  }
 },
 "nbformat": 4,
 "nbformat_minor": 0
}
