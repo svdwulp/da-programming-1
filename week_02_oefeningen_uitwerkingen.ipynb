{
 "cells": [
  {
   "cell_type": "markdown",
   "metadata": {},
   "source": [
    "## Oefeningen\n",
    "\n",
    "**Opgave 1.** Schrijf een programma dat het algoritme  \n",
    "uit de slide [Talstelsels (3)](week_02.ipynb#Talstelsels-(3%29) implementeert,  \n",
    "dat wil zeggen, waarmee een getal uit een willekeurig talstelsel  \n",
    "omgezet kan worden naar een tientallige representatie.\n",
    "\n",
    "Je kunt de `index()`-functie gebruiken om de decimale waarde van een karakters op te zoeken in een string (zie [String indexing (2)](week_02.ipynb#String-indexing-(2%29)).  \n",
    "Om de string `number` van achter naar voren te doorlopen, heb je een Python functie nodig die strings kan omkeren. Probeer die zelf te vinden, met behulp van internet."
   ]
  },
  {
   "cell_type": "code",
   "execution_count": 17,
   "metadata": {
    "collapsed": false
   },
   "outputs": [
    {
     "name": "stdout",
     "output_type": "stream",
     "text": [
      "Resultaat: 987\n"
     ]
    }
   ],
   "source": [
    "number = \"3DB\"\n",
    "base = 16\n",
    "result = 0\n",
    "\n",
    "digits = \"0123456789ABCDEF\"\n",
    "\n",
    "power = 0\n",
    "for digit in reversed(number):\n",
    "    result += digits.index(digit) * base**power\n",
    "    power += 1\n",
    "print(\"Resultaat: {}\".format(tgt_number))"
   ]
  },
  {
   "cell_type": "markdown",
   "metadata": {},
   "source": [
    "**Opgave 2.** Nu je de programma's hebt om de conversie van een willekeurig talstelsel  \n",
    "naar 10-tallig uit te voeren en tevens de conversie van 10-tallig naar een  \n",
    "willekeurig talstelsel, kun je ze samen gebruiken om van het ene  \n",
    "willekeurige talstelsel, zeg $n$, naar het andere willekeurige talstelsel $m$ te converteren:  \n",
    "$x_n \\rightarrow y_{10} \\rightarrow z_m$  \n",
    "Schrijf een programma dat een getal in een opgegeven talstelsel kan  \n",
    "converteren naar een ander opgegeven talstelsel. Je kunt de onderstaande code  \n",
    "gebruiken om je programma te beginnen:\n",
    "\n",
    "```python\n",
    "org_base = 8\n",
    "org_number = \"4607\"\n",
    "tgt_base = 16\n",
    "\n",
    "## converteer org_number (basis org_base) naar dec_number (10-tallig),\n",
    "## converteer dec_number (10-tallig) naar tgt_number (basis tgt_base),\n",
    "## druk tgt_number af\n",
    "```"
   ]
  },
  {
   "cell_type": "code",
   "execution_count": 16,
   "metadata": {
    "collapsed": false
   },
   "outputs": [
    {
     "name": "stdout",
     "output_type": "stream",
     "text": [
      "Resultaat: 987\n"
     ]
    }
   ],
   "source": [
    "org_base = 8\n",
    "org_number = \"4607\"\n",
    "tgt_base = 16\n",
    "\n",
    "digits = \"0123456789ABCDEF\"\n",
    "\n",
    "## converteer org_number (basis org_base) naar dec_number (10-tallig)\n",
    "dec_number = 0\n",
    "power = 0\n",
    "for digit in reversed(org_number):\n",
    "    dec_number += digits.index(digit) * org_base**power\n",
    "    power += 1\n",
    "## converteer dec_number (10-tallig) naar tgt_number (basis tgt_base)\n",
    "tgt_number = \"\"\n",
    "while dec_number > 0:\n",
    "    remainder = dec_number % tgt_base\n",
    "    tgt_number = str(remainder) + tgt_number\n",
    "    dec_number = dec_number // tgt_base\n",
    "\n",
    "## druk tgt_number af\n",
    "print(\"Resultaat: {}\".format(tgt_number))"
   ]
  },
  {
   "cell_type": "markdown",
   "metadata": {},
   "source": [
    "**Opgave 3.** Pas het programma uit opgave 2 aan zodat de gebruiker de beide bases  \n",
    "en het te converteren getal mag opgeven, zoals beschreven  \n",
    "in de slide [Python User Interaction (1)](week_02.ipynb#Python-user-interaction-(1%29)"
   ]
  },
  {
   "cell_type": "code",
   "execution_count": 15,
   "metadata": {
    "collapsed": false
   },
   "outputs": [
    {
     "name": "stdout",
     "output_type": "stream",
     "text": [
      "Geef het talstelsel (2..16) voor het originele getal: 8\n",
      "Geef het originele getal: 4607\n",
      "Geef het gewenste talstelsel: 16\n",
      "Resultaat: 987\n"
     ]
    }
   ],
   "source": [
    "org_base = int(input(\"Geef het talstelsel (2..16) voor het originele getal: \"))\n",
    "org_number = input(\"Geef het originele getal: \")\n",
    "tgt_base = int(input(\"Geef het gewenste talstelsel: \"))\n",
    "\n",
    "digits = \"0123456789ABCDEF\"\n",
    "\n",
    "## converteer org_number (basis org_base) naar dec_number (10-tallig)\n",
    "dec_number = 0\n",
    "power = 0\n",
    "for digit in reversed(org_number):\n",
    "    dec_number += digits.index(digit) * org_base**power\n",
    "    power += 1\n",
    "## converteer dec_number (10-tallig) naar tgt_number (basis tgt_base)\n",
    "tgt_number = \"\"\n",
    "while dec_number > 0:\n",
    "    remainder = dec_number % tgt_base\n",
    "    tgt_number = str(remainder) + tgt_number\n",
    "    dec_number = dec_number // tgt_base\n",
    "\n",
    "## druk tgt_number af\n",
    "print(\"Resultaat: {}\".format(tgt_number))"
   ]
  },
  {
   "cell_type": "code",
   "execution_count": null,
   "metadata": {
    "collapsed": true
   },
   "outputs": [],
   "source": []
  }
 ],
 "metadata": {
  "kernelspec": {
   "display_name": "Python 3",
   "language": "python",
   "name": "python3"
  },
  "language_info": {
   "codemirror_mode": {
    "name": "ipython",
    "version": 3
   },
   "file_extension": ".py",
   "mimetype": "text/x-python",
   "name": "python",
   "nbconvert_exporter": "python",
   "pygments_lexer": "ipython3",
   "version": "3.4.3"
  }
 },
 "nbformat": 4,
 "nbformat_minor": 0
}
