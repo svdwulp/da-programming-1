{
 "cells": [
  {
   "cell_type": "code",
   "execution_count": null,
   "metadata": {
    "collapsed": false
   },
   "outputs": [],
   "source": [
    "%pylab\n",
    "%matplotlib inline\n",
    "\n",
    "import scipy.stats as st"
   ]
  },
  {
   "cell_type": "markdown",
   "metadata": {},
   "source": [
    "### Oefening 1\n",
    "\n",
    "![Mier 2D random walk](images/ant.png)\n",
    "\n",
    "In de bovenstaande afbeelding zie je een mier in zijn natuurlijke leefomgeving: een rij hokjes. De mier zal gaan wandelen, op zoek naar voedsel of andere eerste levensbehoeften.\n",
    "We modelleren het wandelgedrag van de mier als volgt: iedere tijdseenheid (stap) loopt de mier met een kans van 50% 1 vakje naar links en zo niet, dan loopt hij 1 vakje naar rechts. Het doel voor de mier is om de suiker te bereiken in een van de uiterste vakjes.  \n",
    "  \n",
    "Beantwoord de volgende vraag met een simulatie (experiment 10000 keer uitvoeren): hoeveel tijdseenheden (stapjes) duurt het gemiddeld tot de mier in het meest linkse vakje of het meest rechtse vakje aankomt?"
   ]
  },
  {
   "cell_type": "code",
   "execution_count": null,
   "metadata": {
    "collapsed": false
   },
   "outputs": [],
   "source": [
    "n = 10000\n",
    "\n",
    "steps_to_exit = []\n",
    "for i in range(n):\n",
    "    x = 0\n",
    "    steps = 0\n",
    "    while -7 < x < 7:\n",
    "        x += np.random.choice([-1, 1])  # step left or right\n",
    "        steps += 1\n",
    "    steps_to_exit.append(steps)\n",
    "    \n",
    "print(\"Gemiddeld aantal stappen tot suiker: {:.3f}\".format(mean(steps_to_exit)))"
   ]
  },
  {
   "cell_type": "markdown",
   "metadata": {},
   "source": [
    "### Oefening 2\n",
    "\n",
    "Het model in oefening 1 beschrijft een random walk in &eacute;&eacute;n dimensie. In deze oefening doe je een random walk in 2D.\n",
    "\n",
    "Een man stapt om middernacht stomdronken uit een caf&eacute; midden in de stad. Hij wil naar huis, maar zijn richtingsgevoel en co&ouml;rdinatie laten hem enigszins in de steek: iedere stap die hij zet is in een willekeurige richting. Hij loopt steeds exact 1 stap in een willekeurige richting, noord, zuid, oost of west.\n",
    "Hoe groot is de kans dat de man in hooguit 10000 stappen terug komt bij het caf&eacute;?"
   ]
  },
  {
   "cell_type": "code",
   "execution_count": null,
   "metadata": {
    "collapsed": false
   },
   "outputs": [],
   "source": [
    "n = 100\n",
    "\n",
    "successes = 0\n",
    "for i in range(n):\n",
    "    x, y = 0, 0\n",
    "    for j in range(10000):\n",
    "        direction = np.random.choice(list(\"NESW\"))\n",
    "        if direction == \"N\":\n",
    "            y -= 1\n",
    "        elif direction == \"E\":\n",
    "            x += 1\n",
    "        elif direction == \"S\":\n",
    "            y += 1\n",
    "        else:\n",
    "            x -= 1\n",
    "        if (x, y) == (0, 0):\n",
    "            # we zijn terug in het cafe (0, 0)\n",
    "            successes += 1\n",
    "            break\n",
    "\n",
    "print(\"Kans op terugkeren in café in maximaal 10000 stappen: {:.3f}\".format(successes / n))"
   ]
  },
  {
   "cell_type": "markdown",
   "metadata": {},
   "source": [
    "### Oefening 3\n",
    "\n",
    "![driehoek](images/triangle.png)\n",
    "\n",
    "Wanneer we de lengte van de zijden $a$, $b$ en $c$ van een (mogelijke) driehoek willekeurig kiezen uit de uniforme verdeling $U(0, 1)$, wat is de kans dat er een daadwerkelijk een driehoek van te maken is?"
   ]
  },
  {
   "cell_type": "code",
   "execution_count": null,
   "metadata": {
    "collapsed": false
   },
   "outputs": [],
   "source": [
    "n = 10000\n",
    "\n",
    "successes = 0\n",
    "for i in range(n):\n",
    "    sides = list(np.random.rand(3))\n",
    "    sides.sort()\n",
    "    if sides[2] < sum(sides[:2]):\n",
    "        successes += 1\n",
    "\n",
    "print(\"Kans op mogelijkheid driehoek bij benadering {:.3f}\".format(successes / n))"
   ]
  },
  {
   "cell_type": "markdown",
   "metadata": {
    "collapsed": true
   },
   "source": [
    "### Oefening 4\n",
    "\n",
    "Bij de specialisatie Engineering wordt hard gewerkt aan het broodnodige integreren. Maar sommige functies zijn 'wat lastig' te integreren.\n",
    "\n",
    "De integraal $\\int_{0}^{1}\\sqrt{1 - x^4} dx$ is een voorbeeld van zo'n functie:"
   ]
  },
  {
   "cell_type": "code",
   "execution_count": null,
   "metadata": {
    "collapsed": false
   },
   "outputs": [],
   "source": [
    "%pylab\n",
    "%matplotlib inline\n",
    "\n",
    "x = linspace(0, 1, 400)\n",
    "y = sqrt(1 - x**4)\n",
    "\n",
    "plt.fill_between(x, y)\n",
    "plt.axis('equal')\n",
    "plt.ylim([0, 1.1])\n",
    "plt.show()"
   ]
  },
  {
   "cell_type": "markdown",
   "metadata": {},
   "source": [
    "Met behulp van Monte Carlo simulatie kun je de integraal wel vrij eenvoudig benaderen. Je kunt een rechthoek kiezen waar je integraal binnen valt en dan voor willekeurige punten in de rechthoek bepalen of ze onder of boven de grafiek van de functie vallen.\n",
    "\n",
    "Benader de gegeven integraal met een Monte Carlo simulatie."
   ]
  },
  {
   "cell_type": "code",
   "execution_count": null,
   "metadata": {
    "collapsed": false
   },
   "outputs": [],
   "source": [
    "n = 100000\n",
    "\n",
    "under_graph = 0\n",
    "for i in range(n):\n",
    "    x = np.random.rand()\n",
    "    y = np.random.rand()\n",
    "    fx = sqrt(1 - x**4)\n",
    "    if y < fx: \n",
    "        under_graph += 1\n",
    "\n",
    "print(\"Schatting kans willekeurig punt onder grafiek = {:.3f}\".format(under_graph / n))\n",
    "print(\"Schatting integraal = {:.3f}\".format((1 * 1) * (under_graph / n)))"
   ]
  },
  {
   "cell_type": "code",
   "execution_count": null,
   "metadata": {
    "collapsed": true
   },
   "outputs": [],
   "source": []
  }
 ],
 "metadata": {
  "kernelspec": {
   "display_name": "Python 3",
   "language": "python",
   "name": "python3"
  },
  "language_info": {
   "codemirror_mode": {
    "name": "ipython",
    "version": 3
   },
   "file_extension": ".py",
   "mimetype": "text/x-python",
   "name": "python",
   "nbconvert_exporter": "python",
   "pygments_lexer": "ipython3",
   "version": "3.4.3"
  }
 },
 "nbformat": 4,
 "nbformat_minor": 0
}
