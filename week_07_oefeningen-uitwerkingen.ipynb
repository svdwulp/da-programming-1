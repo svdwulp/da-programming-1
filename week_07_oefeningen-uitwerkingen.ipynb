{
 "cells": [
  {
   "cell_type": "markdown",
   "metadata": {},
   "source": [
    "### Opmerking bij de onderstaande oefeningen\n",
    "\n",
    "Probeer bij het maken van de onderstaande oefeningen programma's te schrijven die generiek zijn. Dat wil zeggen, die niet alleen het juiste antwoord geven voor het bij de opgave gegeven voorbeeld, maar het juiste antwoord in alle mogelijke, op het voorbeeld gelijkende, gevallen.  \n",
    "Dus het is beter als je programma bij 1b werkt niet alleen voor de gegeven list `A = [[1, 2, 3], [4, 5, 6], [], [7, 8], [9]]`, maar ook voor andere lists die er ongeveer hetzelfde uitzien."
   ]
  },
  {
   "cell_type": "markdown",
   "metadata": {},
   "source": [
    "### Oefening 1\n",
    "\n",
    "Schrijf een programma om ... \n",
    "\n",
    "<span>a.</span> de verwachtingswaarde van het totaal aantal ogen te bepalen als je gooit een 6-zijdige dobbelsteen.\n",
    "\n",
    "<span>b.</span> de verwachtingswaarde van het totaal aantal ogen te bepalen als je gooit met drie 6-zijdige dobbelstenen.\n",
    "\n",
    "<span>c.</span> de verwachtingswaarde van het totaal aantal ogen te bepalen als je gooit met vier dobbelstenen: een 5-zijdige, een 8-zijdige, een 10-zijdige en een 12-zijdige?\n",
    "\n",
    "<span>d.</span> de verwachtingswaarde van het totaal aantal ogen te bepalen als je gooit met een opgegeven aantal dobbelstenen met een opgegeven aantal zijden.\n",
    "```python\n",
    "dice = [5, 8, 10, 12]  # als oefening 1c. of:\n",
    "dice = [6, 6, 8, 10, 12]\n",
    "```"
   ]
  },
  {
   "cell_type": "code",
   "execution_count": null,
   "metadata": {
    "collapsed": false
   },
   "outputs": [],
   "source": [
    "# 1a\n",
    "pi_times_xi = []\n",
    "for d1 in range(1, 7):\n",
    "    pi_times_xi.append(d1 / 6)\n",
    "expected_value = sum(pi_times_xi)\n",
    "print(\"Expected value:\", expected_value)"
   ]
  },
  {
   "cell_type": "code",
   "execution_count": null,
   "metadata": {
    "collapsed": false
   },
   "outputs": [],
   "source": [
    "# 1b\n",
    "pi_times_xi = []\n",
    "for d1 in range(1, 7):\n",
    "    for d2 in range(1, 7):\n",
    "        for d3 in range(1, 7):\n",
    "            pi_times_xi.append((d1 + d2 + d3) / (6**3))\n",
    "expected_value = sum(pi_times_xi)\n",
    "print(\"Expected value:\", expected_value)"
   ]
  },
  {
   "cell_type": "code",
   "execution_count": null,
   "metadata": {
    "collapsed": false
   },
   "outputs": [],
   "source": [
    "# 1c\n",
    "pi_times_xi = []\n",
    "for d1 in range(1, 6):\n",
    "    for d2 in range(1, 9):\n",
    "        for d3 in range(1, 11):\n",
    "            for d4 in range(1, 13):\n",
    "                pi_times_xi.append((d1 + d2 + d3 + d4) * (1/5 * 1/8 * 1/10 * 1/12))\n",
    "expected_value = sum(pi_times_xi)\n",
    "print(\"Expected value:\", expected_value)"
   ]
  },
  {
   "cell_type": "code",
   "execution_count": null,
   "metadata": {
    "collapsed": true
   },
   "outputs": [],
   "source": [
    "# 1d: optie 1 - uitrekenen (easy way out)\n",
    "dice = [6, 6, 8, 10, 12]\n",
    "expected_values = []\n",
    "for die in dice:\n",
    "    total = 0\n",
    "    for value in range(1, die + 1):\n",
    "        total += value\n",
    "    expected_values.append(total / die)\n",
    "print(\"Expected value:\", sum(expected_values))"
   ]
  },
  {
   "cell_type": "code",
   "execution_count": null,
   "metadata": {
    "collapsed": false
   },
   "outputs": [],
   "source": [
    "# 1d: optie 2 - alle combinaties genereren zonder recursie (the hard way)\n",
    "dice = [6, 6, 8, 10, 12]\n",
    "values = dice.copy()\n",
    "pi = 1\n",
    "for value in values:\n",
    "    pi *= 1 / value\n",
    "pi_times_xi = 0\n",
    "while values[0] > 0:\n",
    "    xi = sum(values)\n",
    "    pi_times_xi += xi * pi\n",
    "    i = len(values) - 1\n",
    "    values[i] -= 1\n",
    "    while i > 0 and values[i] == 0:\n",
    "        values[i] = dice[i]\n",
    "        i -= 1\n",
    "        values[i] -= 1\n",
    "print(\"Expected value:\", pi_times_xi)"
   ]
  },
  {
   "cell_type": "code",
   "execution_count": null,
   "metadata": {
    "collapsed": false
   },
   "outputs": [],
   "source": [
    "# 1d: optie 3 - alle combinaties genereren met recursie (the easy hard way)\n",
    "\n",
    "def dice_combinations(dice):\n",
    "    result = []\n",
    "    if len(dice) > 0:\n",
    "        for i in range(1, dice[0] + 1):\n",
    "            rest_results = dice_combinations(dice[1:])\n",
    "            if len(rest_results) > 0:\n",
    "                for rest_result in rest_results:\n",
    "                    result.append((i,) + rest_result)\n",
    "            else:\n",
    "                result.append((i,))\n",
    "    return result\n",
    "\n",
    "dice = [6, 6, 8, 10, 12]\n",
    "combinations = dice_combinations(dice)\n",
    "expected_value = 0\n",
    "for combination in combinations:\n",
    "    expected_value += sum(combination) / len(combinations)\n",
    "print(\"Expected value:\", expected_value)"
   ]
  },
  {
   "cell_type": "markdown",
   "metadata": {},
   "source": [
    "### Oefening 2\n",
    "\n",
    "Schrijf een programma dat ...  \n",
    "\n",
    "<span>a.</span> het aantal geneste lists van een list geeft.\n",
    "```python\n",
    "A = [[1, 2, 3], [4, 5, 6], [], 7, 8, [9]]\n",
    "# bepaal aantal geneste lists in A (=4)\n",
    "```\n",
    "\n",
    "<span>b.</span> het totaal aantal elementen van een list plus het aantal elementen van alle geneste lists in een list geeft.\n",
    "```python\n",
    "A = [[1, 2, 3], [4, 5, 6], [], 7, 8, [9]]\n",
    "# bepaal het totaal aantal elementen in A (incl. geneste lists) (=9)\n",
    "```\n",
    "\n",
    "<span>c.</span> de som van alle elementen in een list, inclusief de elementen in alle geneste lists.\n",
    "```python\n",
    "A = [[1, 2, 3], [4, 5, 6], [], 7, 8, [9]]\n",
    "# bepaal de som van alle elementen van in A geneste lists (=45)\n",
    "```"
   ]
  },
  {
   "cell_type": "code",
   "execution_count": null,
   "metadata": {
    "collapsed": false
   },
   "outputs": [],
   "source": [
    "# 2a\n",
    "A = [[1, 2, 3], [4, 5, 6], [], 7, 8, [9]]\n",
    "counter = 0\n",
    "for elem in A:\n",
    "    if isinstance(elem, list):\n",
    "        counter += 1\n",
    "print(\"Aantal geneste lists:\", counter)"
   ]
  },
  {
   "cell_type": "code",
   "execution_count": null,
   "metadata": {
    "collapsed": false
   },
   "outputs": [],
   "source": [
    "# 2b\n",
    "A = [[1, 2, 3], [4, 5, 6], [], 7, 8, [9]]\n",
    "counter = 0\n",
    "for elem in A:\n",
    "    if isinstance(elem, list):\n",
    "        for e in elem:\n",
    "            counter += 1\n",
    "    else:\n",
    "        counter += 1\n",
    "print(\"Aantal elementen:\", counter)"
   ]
  },
  {
   "cell_type": "code",
   "execution_count": null,
   "metadata": {
    "collapsed": false
   },
   "outputs": [],
   "source": [
    "# 2c\n",
    "A = [[1, 2, 3], [4, 5, 6], [], 7, 8, [9]]\n",
    "total = 0\n",
    "for elem in A:\n",
    "    if isinstance(elem, list):\n",
    "        for e in elem:\n",
    "            total += e\n",
    "    else:\n",
    "        total += elem\n",
    "print(\"Som van de elementen:\", total)"
   ]
  },
  {
   "cell_type": "markdown",
   "metadata": {},
   "source": [
    "### Oefening 3\n",
    "\n",
    "Schrijf een programma dat ...  \n",
    "\n",
    "<span>a.<span> een platte list maakt met alle elementen van een list, inclusief de elementen in geneste lists.\n",
    "```python\n",
    "A = [[1, 2, 3], 4, 5, [6], [7, 8], 9]\n",
    "# maak een 'platte' list met de elementen van A\n",
    "# (= [1, 2, 3, 4, 5, 6, 7, 8, 9])\n",
    "```\n",
    "\n",
    "<span>b.</span> alle opeenvolgende duplicaten van elementen in een list verwijdert.\n",
    "```python\n",
    "A = [1, 1, 1, 1, 2, 2, 3, 4, 4, 4, 1, 1]\n",
    "# verwijder opeenvolgende duplicaten van elementen in A\n",
    "# (= [1, 2, 3, 4, 1])\n",
    "```\n",
    "\n",
    "<span>c.</span> een run-length encoded versie van een list maakt. Daarbij maak je een nieuwe list, waarin alle opeenvolgende duplicaten van de elementen van de  list zijn vervangen door een tuple met daarin het element en het aantal duplicaten.\n",
    "```python\n",
    "A = [1, 1, 1, 1, 2, 2, 3, 4, 4, 4, 1, 1]\n",
    "# maak een run-length encoded versie van A\n",
    "# (= [(1, 4), (2, 2), (3, 1), (4, 3), (1, 2)])\n",
    "```\n",
    "\n",
    "<span>d.</span> een run-length encoded list (zie 2c.) uitpakt naar een platte list.\n",
    "```python\n",
    "A = [(1, 4), (2, 2), (3, 1), (4, 3), (1, 2)]\n",
    "# pak de run-length encoded list A uit\n",
    "# (= [1, 1, 1, 1, 2, 2, 3, 4, 4, 4, 1, 1])\n",
    "```\n"
   ]
  },
  {
   "cell_type": "code",
   "execution_count": null,
   "metadata": {
    "collapsed": false
   },
   "outputs": [],
   "source": [
    "# 3a\n",
    "A = [[1, 2, 3], 4, 5, [6], [7, 8], 9]\n",
    "result = []\n",
    "for elem in A:\n",
    "    if isinstance(elem, list):\n",
    "        for e in elem:\n",
    "            result.append(e)\n",
    "    else:\n",
    "        result.append(elem)\n",
    "print(\"Flattened list:\", result)"
   ]
  },
  {
   "cell_type": "code",
   "execution_count": null,
   "metadata": {
    "collapsed": false
   },
   "outputs": [],
   "source": [
    "# 3b\n",
    "A = [1, 1, 1, 1, 2, 2, 3, 4, 4, 4, 1, 1]\n",
    "result = []\n",
    "last_elem = None\n",
    "for elem in A:\n",
    "    if elem != last_elem:\n",
    "        result.append(elem)\n",
    "        last_elem = elem\n",
    "print(\"Duplicaten verwijderd:\", result)"
   ]
  },
  {
   "cell_type": "code",
   "execution_count": null,
   "metadata": {
    "collapsed": false
   },
   "outputs": [],
   "source": [
    "# 3c\n",
    "A = [1, 1, 1, 1, 2, 2, 3, 4, 4, 4, 1, 1]\n",
    "result = []\n",
    "last_elem = None\n",
    "elem_count = 0\n",
    "for elem in A:\n",
    "    if elem != last_elem:\n",
    "        if elem_count > 0:\n",
    "            result.append((last_elem, elem_count))\n",
    "        last_elem = elem\n",
    "        elem_count = 1\n",
    "    else:\n",
    "        elem_count += 1\n",
    "if elem_count > 0:\n",
    "    result.append((last_elem, elem_count))\n",
    "print(\"Run-length encoded versie:\", result)"
   ]
  },
  {
   "cell_type": "code",
   "execution_count": null,
   "metadata": {
    "collapsed": false
   },
   "outputs": [],
   "source": [
    "# 3d\n",
    "A = [(1, 4), (2, 2), (3, 1), (4, 3), (1, 2)]\n",
    "# pak de run-length encoded list A uit\n",
    "# (= [1, 1, 1, 1, 2, 2, 3, 4, 4, 4, 1, 1])\n",
    "result = []\n",
    "for elem, elem_count in A:\n",
    "    result.extend([elem] * elem_count)\n",
    "print(\"Uitgepakte versie van run-length encoded list:\", result)"
   ]
  },
  {
   "cell_type": "markdown",
   "metadata": {},
   "source": [
    "### Oefening 4\n",
    "\n",
    "Schrijf een programma dat ...  \n",
    "\n",
    "<span>a.</span> alle elementen in een list dupliceert in dezelfde list, dus zonder een nieuwe list te maken.\n",
    "```python\n",
    "A = [1, 2, 3, 4]\n",
    "# dupliceer de elementen in A (zonder een nieuwe list te maken)\n",
    "# (A = [1, 1, 2, 2, 3, 3, 4, 4])\n",
    "```\n",
    "\n",
    "<span>b.</span> de elementen van een list een opgegeven aantal plaatsen naar links 'draait'. Elementen die er aan de linkerzijde af zouden vallen, komen rechts terug in de list.\n",
    "```python\n",
    "A = list(\"abcdefgh\")\n",
    "positions = 3\n",
    "# draai de list A over positions elementen naar links\n",
    "# (= [\"d\", \"e\", \"f\", \"g\", \"a\", \"b\", \"c\"])\n",
    "```"
   ]
  },
  {
   "cell_type": "code",
   "execution_count": null,
   "metadata": {
    "collapsed": false
   },
   "outputs": [],
   "source": [
    "# 4a\n",
    "A = [1, 2, 3, 4]\n",
    "for i in range(len(A)):\n",
    "    A.insert(2*i, A[2*i])\n",
    "print(\"Lijst met gedupliceerde elementen:\", A)"
   ]
  },
  {
   "cell_type": "code",
   "execution_count": null,
   "metadata": {
    "collapsed": false
   },
   "outputs": [],
   "source": [
    "# 4b\n",
    "A = list(\"abcdefgh\")\n",
    "positions = 3\n",
    "# draai de list A over positions elementen naar links\n",
    "# (= [\"d\", \"e\", \"f\", \"g\", \"a\", \"b\", \"c\"])\n",
    "result = A[positions:] + A[:positions]\n",
    "print(\"Geroteerde lijst:\", result)"
   ]
  },
  {
   "cell_type": "markdown",
   "metadata": {},
   "source": [
    "### Oefening 5\n",
    "\n",
    "Schrijf een programma dat ...  \n",
    "\n",
    "<span>a.</span> een opgegeven aantal, toevallig gekozen elementen uit een list trekt (lotto).\n",
    "```python\n",
    "A = [1, 3, 5, 7, 8, 9]\n",
    "count = 3\n",
    "# trek count toevallig gekozen elementen uit A\n",
    "# (= [7, 3, 5] of [1, 8, 3] etc.)\n",
    "```"
   ]
  },
  {
   "cell_type": "code",
   "execution_count": null,
   "metadata": {
    "collapsed": false
   },
   "outputs": [],
   "source": [
    "# 5a\n",
    "import random\n",
    "\n",
    "A = [1, 3, 5, 7, 8, 9]\n",
    "count = 3\n",
    "result = []\n",
    "for i in range(count):\n",
    "    index = random.randrange(len(A))\n",
    "    result.append(A[index])\n",
    "    del A[index]\n",
    "print(\"Willekeurig gekozen elementen:\", result)"
   ]
  },
  {
   "cell_type": "markdown",
   "metadata": {},
   "source": [
    "### Oefening 6\n",
    "\n",
    "<span>a.</span> Schrijf een programma dat twee matrices bij elkaar optelt.\n",
    "```python\n",
    "A = [[1, 2, 3], [4, 5, 6]]\n",
    "B = [[9, 8, 7], [6, 5, 4]]\n",
    "# bepaal C = A + B\n",
    "```\n",
    "\n",
    "<span>b.</span> Schrijf een programma dat twee matrices vermenigvuldigt.\n",
    "```python\n",
    "A = [[1, 2, 3], [4, 5, 6]]\n",
    "B = [[9, 8], [7, 6], [5, 4]]\n",
    "# bepaal C = A x B\n",
    "```"
   ]
  },
  {
   "cell_type": "code",
   "execution_count": null,
   "metadata": {
    "collapsed": false
   },
   "outputs": [],
   "source": [
    "# 6a\n",
    "A = [[1, 2, 3], [4, 5, 6]]\n",
    "B = [[9, 8, 7], [6, 5, 4]]\n",
    "result = []\n",
    "for i in range(len(A)):\n",
    "    row = []\n",
    "    for j in range(len(A[i])):\n",
    "        row.append(A[i][j] + B[i][j])\n",
    "    result.append(row)\n",
    "print(\"Som matrix:\", result)"
   ]
  },
  {
   "cell_type": "code",
   "execution_count": null,
   "metadata": {
    "collapsed": false
   },
   "outputs": [],
   "source": [
    "# 6b\n",
    "A = [[1, 2, 3], [4, 5, 6]]\n",
    "B = [[9, 8], [7, 6], [5, 4]]\n",
    "result = []\n",
    "for i in range(len(A)):\n",
    "    row = []\n",
    "    for j in range(len(A)):\n",
    "        total = 0\n",
    "        for k in range(len(B)):\n",
    "            total += A[i][k] * B[k][j]\n",
    "        row.append(total)\n",
    "    result.append(row)\n",
    "print(\"Product matrix:\", result)"
   ]
  },
  {
   "cell_type": "markdown",
   "metadata": {},
   "source": [
    "### Oefening 7\n",
    "\n",
    "Als we een matrix niet met een geneste list zouden modelleren, \n",
    "maar met een platte list, hoe zou je dan een element van de matrix \n",
    "kunnen aanwijzen?  \n",
    "De afmeting van de matrix is bekend.\n",
    "\n",
    "Bijvoorbeeld:\n",
    "$$\n",
    "A = \\begin{bmatrix}\n",
    "    1 & 2 & 3 \\\\\n",
    "    4 & 5 & 6 \\\\\n",
    "    7 & 8 & 9 \\end{bmatrix}\n",
    "$$\n",
    "Hoe vind ik nu $A_{r,c}$ ?\n",
    "\n",
    "In Python:\n",
    "```python\n",
    "A = [1, 2, 3, 4, 5, 6, 7, 8, 9]\n",
    "rows, cols = (3, 3)  # matrix dimensions\n",
    "r, c = (1, 2)  # 0-based row and column index\n",
    "# hoe vind ik het element op A(r, c)?\n",
    "```"
   ]
  },
  {
   "cell_type": "code",
   "execution_count": null,
   "metadata": {
    "collapsed": false
   },
   "outputs": [],
   "source": [
    "A = [1, 2, 3, 4, 5, 6, 7, 8, 9]\n",
    "rows, cols = (3, 3)  # matrix dimensions\n",
    "r, c = (1, 2)  # 0-based row and column index\n",
    "index = r * cols + c\n",
    "print(\"A(r,c):\", A[index])"
   ]
  },
  {
   "cell_type": "markdown",
   "metadata": {},
   "source": [
    "### Oefening 8\n",
    "\n",
    "In het 8-koniginnen-probleem probeer je zoveel mogelijk koniginnen op een schaakbord te plaatsen. De koniginnen mogen niet de mogelijkheid hebben \n",
    "elkaar te slaan.  \n",
    "Een konigin mag op het schaakbord zowel horizontaal, verticaal als diagonaal lopen.\n",
    "\n",
    "Een voorbeeld van een geldige oplossing:  \n",
    "![Een oplossing van het 8-koniginnen-probleem](images/an_eight_queens_solution.png)\n",
    "\n",
    "<span>a.</span> Op hoeveel mogelijke manieren kun je de 8 koniginnen op de vakjes van het schaakbord plaatsen als je geen rekening hoeft te houden met het slaan?\n",
    "\n",
    "<span>b.</span> Schrijf een Python programma dat een geldige oplossing van het probleem zoekt en vindt."
   ]
  },
  {
   "cell_type": "code",
   "execution_count": 1,
   "metadata": {
    "collapsed": false
   },
   "outputs": [
    {
     "data": {
      "text/latex": [
       "Er zijn 8 koniginnen te verdelen over 64 vakjes:"
      ],
      "text/plain": [
       "<IPython.core.display.Latex object>"
      ]
     },
     "metadata": {},
     "output_type": "display_data"
    },
    {
     "data": {
      "text/latex": [
       "$\\binom{64}{8} = 4426165368$"
      ],
      "text/plain": [
       "<IPython.core.display.Latex object>"
      ]
     },
     "metadata": {},
     "output_type": "display_data"
    }
   ],
   "source": [
    "# 8a\n",
    "from IPython.display import display, Latex\n",
    "from scipy.misc import comb\n",
    "\n",
    "combinations = comb(64, 8, exact=True)\n",
    "display(Latex(r\"Er zijn 8 koniginnen te verdelen over 64 vakjes:\"))\n",
    "display(Latex(r\"$\\binom{{64}}{{8}} = {}$\".format(combinations)))"
   ]
  },
  {
   "cell_type": "code",
   "execution_count": null,
   "metadata": {
    "collapsed": false
   },
   "outputs": [],
   "source": [
    "# 8b\n",
    "# We zouden het schaakbord kunnen modelleren met een \n",
    "# geneste list, waarbij iedere sublist een rij voorstelt,\n",
    "# en deze dan vullen met een Q bij ieder vakje waar een \n",
    "# konigin staat.\n",
    "# Maar aangezien koniginnen toch nooit in dezelfde kolom \n",
    "# kunnen staan, kunnen we net zo goed alleen de rijnummers\n",
    "# van de 8 koniginnen opslaan.\n",
    "\n",
    "board = [0] * 8\n",
    "while True:\n",
    "    # oplossing controleren\n",
    "    # koniginnen mogen niet op dezelfde rij staan:\n",
    "    rows_valid = True\n",
    "    for col in range(len(board) - 1):\n",
    "        if board[col] in board[col+1:]:\n",
    "            rows_valid = False\n",
    "            break\n",
    "    if rows_valid:\n",
    "        # koniginnen mogen niet in dezelfde diagonaal staan,\n",
    "        # top-left to bottom-right:\n",
    "        diagonal_tlbr = []\n",
    "        for col in range(len(board)):\n",
    "            # calculate diagonal:\n",
    "            diagonal_tlbr.append(col - board[col])\n",
    "        diagonal_tlbr_valid = True\n",
    "        for d in range(len(diagonal_tlbr) - 1):\n",
    "            if diagonal_tlbr[d] in diagonal_tlbr[d+1:]:\n",
    "                diagonal_tlbr_valid = False\n",
    "                break\n",
    "        if diagonal_tlbr_valid:\n",
    "            # koniginnen mogen niet in dezelfde diagonaal staan,\n",
    "            # bottom-left to top-right:\n",
    "            diagonal_bltr = []\n",
    "            for col in range(len(board)):\n",
    "                # calculate diagonal:\n",
    "                diagonal_bltr.append(col + board[col])\n",
    "            diagonal_bltr_valid = True\n",
    "            for d in range(len(diagonal_bltr) - 1):\n",
    "                if diagonal_bltr[d] in diagonal_bltr[d+1:]:\n",
    "                    diagonal_bltr_valid = False\n",
    "                    break\n",
    "            if diagonal_bltr_valid:\n",
    "                print(\"Valid solution:\", board)\n",
    "                break\n",
    "    # set up next board:\n",
    "    col = -1\n",
    "    board[col] += 1\n",
    "    while col >= -len(board) and board[col] >= len(board):\n",
    "        board[col] = 1\n",
    "        col -= 1\n",
    "        board[col] += 1\n",
    "    if col < -len(board):\n",
    "        break\n",
    "else:\n",
    "    print(\"No valid solution found!\")"
   ]
  },
  {
   "cell_type": "markdown",
   "metadata": {},
   "source": [
    "### Oefening 9\n",
    "\n",
    "Schrijf een programma dat ...  \n",
    "\n",
    "<span>a.<span> de geneste lists in een list sorteert op lengte van de \n",
    "geneste list.\n",
    "```python\n",
    "A = [\n",
    "    [\"a\", \"b\", \"c\"], [\"d\", \"e\"],\n",
    "    [\"f\", \"g\", \"h\"], [\"d\", \"e\"],\n",
    "    [\"i\", \"j\", \"k\", \"l\"], [\"m\", \"n\"],\n",
    "    [\"o\"]\n",
    "]\n",
    "# maak een nieuwe lijst, waarin de elementen van A\n",
    "# gesorteerd zijn op lengte van de list\n",
    "# (= [[\"o\"], [\"d\", \"e\"], [\"d\", \"e\"], [\"m\", \"n\"],\n",
    "#     [\"a\", \"b\", \"c\"], [\"f\", \"g\", \"h\"], [\"i\", \"j\", \"k\", \"l\"]])\n",
    "```"
   ]
  },
  {
   "cell_type": "code",
   "execution_count": null,
   "metadata": {
    "collapsed": false
   },
   "outputs": [],
   "source": [
    "# 9a\n",
    "A = [\n",
    "    [\"a\", \"b\", \"c\"], [\"d\", \"e\"],\n",
    "    [\"f\", \"g\", \"h\"], [\"d\", \"e\"],\n",
    "    [\"i\", \"j\", \"k\", \"l\"], [\"m\", \"n\"],\n",
    "    [\"o\"]\n",
    "]\n",
    "\n",
    "sort_order = []\n",
    "for i in range(len(A)):\n",
    "    sort_order.append((len(A[i]), i))\n",
    "sort_order.sort()\n",
    "result = []\n",
    "for length, i in sort_order:\n",
    "    result.append(A[i])\n",
    "print(\"Sorted by length of sublist:\", result)"
   ]
  },
  {
   "cell_type": "code",
   "execution_count": null,
   "metadata": {
    "collapsed": true
   },
   "outputs": [],
   "source": []
  }
 ],
 "metadata": {
  "kernelspec": {
   "display_name": "Python 3",
   "language": "python",
   "name": "python3"
  },
  "language_info": {
   "codemirror_mode": {
    "name": "ipython",
    "version": 3
   },
   "file_extension": ".py",
   "mimetype": "text/x-python",
   "name": "python",
   "nbconvert_exporter": "python",
   "pygments_lexer": "ipython3",
   "version": "3.4.3"
  }
 },
 "nbformat": 4,
 "nbformat_minor": 0
}
