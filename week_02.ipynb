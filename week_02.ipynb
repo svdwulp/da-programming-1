{
 "cells": [
  {
   "cell_type": "markdown",
   "metadata": {
    "slideshow": {
     "slide_type": "slide"
    }
   },
   "source": [
    "# Data Analysis - Programming - 1\n",
    "## Week 2"
   ]
  },
  {
   "cell_type": "markdown",
   "metadata": {
    "slideshow": {
     "slide_type": "fragment"
    }
   },
   "source": [
    "## Onderwerpen week 2:\n",
    "\n",
    "- string formatting\n",
    "- talstelsels\n",
    "- string indexing\n",
    "- user input"
   ]
  },
  {
   "cell_type": "markdown",
   "metadata": {
    "slideshow": {
     "slide_type": "slide"
    }
   },
   "source": [
    "## String formatting (1)\n",
    "\n",
    "- tekstuele output is de eenvoudigste manier om de computer  \n",
    "begrijpelijke antwoorden op je vragen te laten geven\n",
    "- de `print()`-function maakt tekstuele output mogelijk,  \n",
    "maar de opmaak laat nog wat te wensen over zoals  \n",
    "je hebt gezien bij de waarheidstabellen\n",
    "\n",
    "- [`format()`](https://docs.python.org/3.1/library/string.html#formatstrings) is een functie die wordt toegepast op een string:\n",
    "```python\n",
    "count = 100\n",
    "success = 73\n",
    "print(\"P(X) = {} / {} = {}\".format(\n",
    "        success, count, success / count))\n",
    "```  \n",
    "drukt af: `P(X) = 73 / 100 = 0.73`\n",
    "- de string voor de punt, `\"P(X) = {} / {} = {}\"` in het voorbeeld,  \n",
    "wordt de format string genoemd en dient als sjabloon\n",
    "- de sjabloon bevat placeholders, de accoladeparen `{}`\n",
    "- de argumenten voor de `format()`-functie, `count`, `success` en `(count / success)` in het voorbeeld, worden ingevuld op de plaats van de placeholders"
   ]
  },
  {
   "cell_type": "markdown",
   "metadata": {
    "slideshow": {
     "slide_type": "subslide"
    }
   },
   "source": [
    "## String formatting (2)\n",
    "\n",
    "- in de placeholders voor de `format()`-functie kun je aanwijzingen geven  \n",
    "voor de manier waarop het argument op die plaats moet worden ingevuld\n",
    "- enkele veelgebruikte voorbeelden zijn:\n",
    "    - argument index, bepaalt welk argument wordt gebruikt:\n",
    "    ```python\n",
    "    \"P(X) = {2} / {1} = {0}\".format(success / count, count, success)\n",
    "    ```\n",
    "    - breedte, reserveert ruimte  \n",
    "    ```python\n",
    "    \"{:8}|{:8}|{:8}\".format(\"A\", \"B\", \"(A or B)\")\n",
    "    ```\n",
    "    - uitlijning binnen de gereserveerde ruimte  \n",
    "    ```python\n",
    "    \"{:<8}|{:^8}|{:>8}\".format(str(False), str(False), str(False))\n",
    "    ```\n",
    "    - precisie voor getallen\n",
    "    ```python\n",
    "    \"P(X) = {:.0f} / {:.3f} = {:.6f}\".format(12, 13, 12 / 13)\n",
    "    ```"
   ]
  },
  {
   "cell_type": "code",
   "execution_count": 12,
   "metadata": {
    "collapsed": false,
    "slideshow": {
     "slide_type": "subslide"
    }
   },
   "outputs": [
    {
     "name": "stdout",
     "output_type": "stream",
     "text": [
      "P(X) = 2 / 4 = 0.5\n",
      "A       |B       |(A or B)\n",
      "False   | False  |       0\n",
      "P(X) = 12 / 13.000 = 0.923077\n"
     ]
    }
   ],
   "source": [
    "count = 4\n",
    "success = 2\n",
    "print(\"P(X) = {2} / {1} = {0}\".format(success / count, count, success))\n",
    "print(\"{:8}|{:8}|{:8}\".format(\"A\", \"B\", \"(A or B)\"))\n",
    "print(\"{!s:<8}|{!s:^8}|{:>8}\".format(False, False, False))\n",
    "print(\"P(X) = {:.0f} / {:.3f} = {:.6f}\".format(12, 13, 12 / 13))"
   ]
  },
  {
   "cell_type": "markdown",
   "metadata": {
    "slideshow": {
     "slide_type": "subslide"
    }
   },
   "source": [
    "### Opdracht 1\n",
    "\n",
    "- vorige week heb je Python waarheidstabellen laten afdrukken,  \n",
    "maar die waren nogal schots en scheef. Pas het onderstaande programma aan,  \n",
    "zodat de afgedrukte tabel leesbaar en netjes uitgelijnd afgedrukt wordt.\n",
    "```python\n",
    "print(\"A\", \"B\", \"A|B\", \"A&B\", \"not A\")\n",
    "for A in [False, True]:\n",
    "    for B in [False, True]:\n",
    "        print(A, B, A or B, A and B, not A)\n",
    "```"
   ]
  },
  {
   "cell_type": "markdown",
   "metadata": {
    "slideshow": {
     "slide_type": "slide"
    }
   },
   "source": [
    "## Talstelsels (1)\n",
    "\n",
    "- je hebt van jongs af aan leren tellen en rekenen in het tientallig of decimale talstelsel:  \n",
    "$321_{10} + 987_{10} = 1308_{10}$\n",
    "- computers rekenen echter, om technische redenen, in het tweetallig of binaire talstelsel:  \n",
    "$101000001_2 + 1111011011_2 = 10100011100_2$\n",
    "- en ook het achttallig (octale) stelsel en het 16-tallig (hexadecimale) stelsel worden veel gebruikt bij het werken met computers:  \n",
    "$501_8 + 1733_8 = 2434_8$  \n",
    "$141_{16} + 3DB_{16} = 51C_{16}$  \n",
    "_in het 16-tallig stelsel zijn de decimale cijfers op na 9 en daarom worden de letters A t/m F gebruikt om de 'cijfers' 10 t/m 16 voor te stellen_"
   ]
  },
  {
   "cell_type": "markdown",
   "metadata": {
    "slideshow": {
     "slide_type": "subslide"
    }
   },
   "source": [
    "## Talstelsels (2)\n",
    "\n",
    "- algoritme voor talstelsel conversie,  \n",
    "decimaal naar iets anders:\n",
    "    1. gegeven: het decimale getal `number`,  \n",
    "    de gewenste nieuwe basis `rbase`,  \n",
    "    en een lege resultaat string `result = \"\"`\n",
    "    2. bepaal de rest van de deling `number / rbase`,  \n",
    "    en voeg het resultaat toe als meest linkse digit aan `result`:\n",
    "    ```python\n",
    "    remainder = number % rbase  ## % is de modulo operator in Python\n",
    "    result = str(remainder) + result\n",
    "    ```\n",
    "    3. bepaal de nieuwe waarde van `number` als  \n",
    "    het gehele deel van de deling `number / rbase`:  \n",
    "    ```python\n",
    "    number = number // rbase  ## // geeft het geheel van de deling\n",
    "                                 ## deze bewerking wordt integer deling genoemd\n",
    "    ```\n",
    "    4. als `number > 0`, ga verder bij stap 2,  \n",
    "    anders bevat `result` het getal in de nieuwe basis"
   ]
  },
  {
   "cell_type": "code",
   "execution_count": 13,
   "metadata": {
    "collapsed": false,
    "slideshow": {
     "slide_type": "subslide"
    }
   },
   "outputs": [
    {
     "name": "stdout",
     "output_type": "stream",
     "text": [
      "101000001\n"
     ]
    }
   ],
   "source": [
    "## number system conversion decimal to any\n",
    "number = 321\n",
    "rbase = 2\n",
    "result = \"\"\n",
    "\n",
    "while number > 0:\n",
    "    remainder = number % rbase\n",
    "    result = str(remainder) + result\n",
    "    number = number // rbase\n",
    "\n",
    "print(result)"
   ]
  },
  {
   "cell_type": "markdown",
   "metadata": {
    "slideshow": {
     "slide_type": "slide"
    }
   },
   "source": [
    "## String indexing (1)\n",
    "\n",
    "- de talstelsel conversie gaat prima voor talstelsels  \n",
    "met een basis tot en met 10,  \n",
    "maar daarboven raken we door de cijfers heen\n",
    "- een gebruikelijke oplossing is om  \n",
    "alle cijfers uit een string te peuteren,  \n",
    "bijvoorbeeld voor basis 16:\n",
    "```\n",
    "digits: \"0123456789ABCDEF\"\n",
    "index :            111111\n",
    "           0123456789012345\n",
    "```\n",
    "- in Python kun je een karakter uit een string halen  \n",
    "met behulp van indexing. Het getal tussen blokhaken is  \n",
    "de 0-based index van het element van de string dat je wilt hebben:\n",
    "```python\n",
    "digits = \"0123456789ABCDEF\"\n",
    "print(digits[0], digits[3], digits[10], digits[15])\n",
    "for i in range(0, len(digits), 4):\n",
    "    print(digits[i])\n",
    "```"
   ]
  },
  {
   "cell_type": "code",
   "execution_count": 17,
   "metadata": {
    "collapsed": false,
    "slideshow": {
     "slide_type": "subslide"
    }
   },
   "outputs": [
    {
     "name": "stdout",
     "output_type": "stream",
     "text": [
      "3 A F\n",
      "0\n",
      "4\n",
      "8\n",
      "C\n"
     ]
    }
   ],
   "source": [
    "digits = \"0123456789ABCDEF\"\n",
    "print(digits[0], digits[3], digits[10], digits[15])\n",
    "for i in range(0, len(digits), 4):\n",
    "    print(digits[i])"
   ]
  },
  {
   "cell_type": "markdown",
   "metadata": {},
   "source": [
    "## String indexing (2)\n",
    "\n",
    "- zoals je met indexing een karakter op  \n",
    "een specifieke plek in een string kan opzoeken,\n",
    "zo kun je met de `index()`-functie precies het omgekeerde doen:  \n",
    "\n",
    "```python\n",
    "digits = \"0123456789ABCDEF\"\n",
    "print(digits.index(\"0\"), digits.index(\"3\"), digits.index(\"14\"), digits.index(\"15\"))\n",
    "```\n",
    "```\n",
    "0 3 F\n",
    "```\n",
    "- met behulp van de `index()`-functie zou je  \n",
    "bijvoorbeeld de waarde van digits in een string kunnen bepalen  \n",
    "(zie *Oefeningen, opgave 1*)"
   ]
  },
  {
   "cell_type": "markdown",
   "metadata": {
    "slideshow": {
     "slide_type": "slide"
    }
   },
   "source": [
    "### Opdracht 2\n",
    "\n",
    "- pas het programma voor talstelsel conversie zo aan dat  \n",
    "ook het hexadecimale stelsel correcte conversies oplevert  \n",
    "\n",
    "```python\n",
    "number = 987\n",
    "rbase = 16\n",
    "result = \"\"\n",
    "\n",
    "while number > 0:\n",
    "    remainder = number % rbase\n",
    "    result = str(remainder) + result\n",
    "    number = number // rbase\n",
    "\n",
    "print(result)\n",
    "```"
   ]
  },
  {
   "cell_type": "markdown",
   "metadata": {
    "slideshow": {
     "slide_type": "slide"
    }
   },
   "source": [
    "## Talstelsels (3)\n",
    "\n",
    "- algoritme voor talstelsel conversie,  \n",
    "ander talstelsel naar decimaal:\n",
    "    1. gegeven: het getal `number` *als string*,  \n",
    "    de basis van `number`, genaamd `base`,  \n",
    "    en een resultaat variabele `result = 0`\n",
    "    2. voor iedere `digit` in `number`, van achter naar voren,  \n",
    "    bepaal de positie van `digit` in `number`,  \n",
    "    geteld van achter naar voren,  \n",
    "    waarbij de laatste `digit` positie 0 heeft,  \n",
    "    en noem deze positie `power`\n",
    "    3. tel `digit` * (`base` ** `power`) op bij `result`\n",
    "    en voeg het resultaat toe als meest linkse digit aan `result`"
   ]
  },
  {
   "cell_type": "markdown",
   "metadata": {
    "slideshow": {
     "slide_type": "slide"
    }
   },
   "source": [
    "## Python user interaction (1)\n",
    "\n",
    "- tot nu toe zijn alle \"parameters\" in je programma's  \n",
    "als constanten opgegeven (hardcoded)\n",
    "- je programma wordt bruikbaarder en generieker wanneer je  \n",
    "in plaats van constanten kunt werken met input van de gebruiker\n",
    "- zo zou je de talstelselconversie programma's kunnen aanpassen  \n",
    "zodat de gebruiker kan opgeven welke bases hij wil gebruiken en  \n",
    "welk getal geconverteerd dient te worden:  \n",
    "`Geef de basis van het originele getal:` *`16`*  \n",
    "`Geef het getal:` *`3DB`*  \n",
    "`Geef de gewenste basis:` *`8`*  \n",
    "`Resultaat: 1703`\n",
    "- de functie waarmee je input aan de gebruiker kunt vragen heet `input()`"
   ]
  },
  {
   "cell_type": "markdown",
   "metadata": {
    "slideshow": {
     "slide_type": "subslide"
    }
   },
   "source": [
    "## Opdracht 3\n",
    "\n",
    "- zoek met behulp van Jupyter Notebook's ingebouwde Python documentatie  \n",
    "uit hoe de `input()` functie werkt\n",
    "- schrijf een kort programma dat de gebruiker vraagt om zijn of haar naam,  \n",
    "en daarmee een groet afdrukt:  \n",
    "`Hoe heet je:` *`Pascal`*  \n",
    "`Hallo Pascal!`"
   ]
  },
  {
   "cell_type": "markdown",
   "metadata": {
    "collapsed": false,
    "slideshow": {
     "slide_type": "subslide"
    }
   },
   "source": [
    "## Python user interaction (2)\n",
    "\n",
    "- de input() functie geeft *altijd* een string terug,  \n",
    "het onderstaande programma zou niet werken omdat  \n",
    "je twee strings niet kunt vermenigvuldigen  \n",
    "(probeer dit soort dingen zelf uit!)\n",
    "```python\n",
    "mass = input(\"Geef de massa: \")\n",
    "velocity = input(\"Geef de snelheid: \")\n",
    "momentum = mass * velocity\n",
    "print(\"Momentum: {}\".format(momentum))\n",
    "```\n",
    "- als je een getal nodig hebt,  \n",
    "kun je Python de string input van de gebruiker laten  \n",
    "converteren naar het gewenste datatype\n",
    "- de functies die je daarvoor gebruikt, zijn vernoemd  \n",
    "naar de corresponderende datatypen:\n",
    "```python\n",
    "mass_txt = input(\"Geef de massa: \")  ## mass_text wordt een string\n",
    "mass = float(mass_txt)               ## mass wordt een float\n",
    "count_txt = input(\"Geef het aantal: \")\n",
    "count = int(count_txt)               ## count wordt een int\n",
    "```\n",
    "- de conversie naar een getal werkt natuurlijk alleen  \n",
    "als de opgegeven waarde ook een geldig getal op zou leveren"
   ]
  },
  {
   "cell_type": "markdown",
   "metadata": {
    "slideshow": {
     "slide_type": "subslide"
    }
   },
   "source": [
    "## Opdracht 4\n",
    "\n",
    "Pas het onderstaande programma aan, zodat het *wel* werkt.\n",
    "```python\n",
    "mass = input(\"Geef de massa (in kg): \")\n",
    "velocity = input(\"Geef de snelheid (in m/s): \")\n",
    "momentum = mass * velocity\n",
    "print(\"Momentum: {} N/s\".format(momentum))\n",
    "```"
   ]
  },
  {
   "cell_type": "markdown",
   "metadata": {
    "slideshow": {
     "slide_type": "slide"
    }
   },
   "source": [
    "## Oefeningen\n",
    "\n",
    "1. Schrijf een programma dat het algoritme  \n",
    "uit de slide [Talstelsels (3)](#Talstelsels-(3%29) implementeert,  \n",
    "dat wil zeggen, waarmee een getal uit een willekeurig talstelsel  \n",
    "omgezet kan worden naar een tientallige representatie.\n",
    "\n",
    "2. Nu je de programma's hebt om de conversie van een willekeurig talstelsel  \n",
    "naar 10-tallig uit te voeren en tevens de conversie van 10-tallig naar een  \n",
    "willekeurig talstelsel, kun je ze samen gebruiken om van het ene  \n",
    "willekeurige talstelsel, zeg $n$, naar het andere willekeurige talstelsel $m$ te converteren:  \n",
    "$x_n \\rightarrow y_{10} \\rightarrow z_m$  \n",
    "Schrijf een programma dat een getal in een opgegeven talstelsel kan  \n",
    "converteren naar een ander opgegeven talstelsel. Je kunt de onderstaande code  \n",
    "gebruiken om je programma te beginnen:\n",
    "\n",
    "    ```python\n",
    "    org_base = 8\n",
    "    org_number = \"4607\"\n",
    "    tgt_base = 16\n",
    "\n",
    "    ## converteer org_number (basis org_base) naar dec_number (10-tallig),\n",
    "    ## converteer dec_number (10-tallig) naar tgt_number (basis tgt_base),\n",
    "    ## druk tgt_number af\n",
    "    ```\n",
    "3. Pas het programma uit opgave 2 aan zodat de gebruiker de beide bases  \n",
    "en het te converteren getal mag opgeven, zoals beschreven  \n",
    "in de slide [Python User Interaction (1)](#Python-user-interaction-(1%29)"
   ]
  },
  {
   "cell_type": "code",
   "execution_count": null,
   "metadata": {
    "collapsed": true
   },
   "outputs": [],
   "source": []
  }
 ],
 "metadata": {
  "celltoolbar": "Slideshow",
  "kernelspec": {
   "display_name": "Python 3",
   "language": "python",
   "name": "python3"
  },
  "language_info": {
   "codemirror_mode": {
    "name": "ipython",
    "version": 3
   },
   "file_extension": ".py",
   "mimetype": "text/x-python",
   "name": "python",
   "nbconvert_exporter": "python",
   "pygments_lexer": "ipython3",
   "version": "3.4.3"
  }
 },
 "nbformat": 4,
 "nbformat_minor": 0
}
