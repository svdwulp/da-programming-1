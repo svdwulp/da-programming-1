{
 "cells": [
  {
   "cell_type": "markdown",
   "metadata": {
    "slideshow": {
     "slide_type": "slide"
    }
   },
   "source": [
    "# Data Analysis - Programming - 1\n",
    "## Week 8"
   ]
  },
  {
   "cell_type": "markdown",
   "metadata": {
    "slideshow": {
     "slide_type": "fragment"
    }
   },
   "source": [
    "## Onderwerpen week 8:\n",
    "\n",
    "- Python library import syntax\n",
    "- Monte Carlo simulatie"
   ]
  },
  {
   "cell_type": "markdown",
   "metadata": {
    "slideshow": {
     "slide_type": "slide"
    }
   },
   "source": [
    "## Python library import syntax (1)\n",
    "\n",
    "- Python wordt standaard geleverd met veel zogenoemde 'modules'  \n",
    "  met veelgebruikte functies, constanten en datatypen\n",
    "- het geheel van meegeleverder modules wordt  \n",
    "  de [standard library](https://docs.python.org/3/library/) genoemd\n",
    "- enkele voorbeelden van modules ben je al tegengekomen:  \n",
    "  - [random](https://docs.python.org/3.5/library/random.html)\n",
    "  - [math](https://docs.python.org/3.5/library/math.html)\n",
    "- als je een bibliotheek hebt ge&iuml;mporteerd met `import`,  \n",
    "  kun je met de `dir()`-functie kijken wat er 'ge&euml;xporteerd' wordt:\n",
    "\n",
    "```python\n",
    "import(math)\n",
    "dir(math)\n",
    "```"
   ]
  },
  {
   "cell_type": "markdown",
   "metadata": {
    "slideshow": {
     "slide_type": "subslide"
    }
   },
   "source": [
    "## Python library import syntax (2)\n",
    "\n",
    "- naast de standard library zijn er nog tienduizenden packages  \n",
    "  verkrijgbaar voor Python\n",
    "- de meeste daarvan zijn opgenomen in de Python Package Index,  \n",
    "  of [pypi](https://pypi.python.org/pypi)\n",
    "- de versie van Python die je hebt ge&iuml;nstalleerd, Anaconda,  \n",
    "  wordt geleverd met een slordige 300 tot 400 van de meest-  \n",
    "  gebruikte packages\n",
    "- &eacute;&eacute;n voorbeeld daarvan ben je vandaag tegengekomen:\n",
    "\n",
    "```python\n",
    "from scipy import stats\n",
    "\n",
    "# X = aantal keer munt bij 10x gooien (eerlijke munt)\n",
    "# bepaal P(X=3):\n",
    "P = stats.binom.pmf(3, 10, 0.5)\n",
    "```"
   ]
  },
  {
   "cell_type": "markdown",
   "metadata": {
    "slideshow": {
     "slide_type": "subslide"
    }
   },
   "source": [
    "## Python library import syntax (3)\n",
    "\n",
    "- veel packages, zoals `scipy`, bestaan uit meerdere modules,  \n",
    "  zoals `stats`, die ook weer verschillende namen kunnen bevatten\n",
    "- import statements in Python kunnen dan ook op veel verschillende  \n",
    "  manieren geschreven worden:\n",
    "\n",
    "```python\n",
    "import scipy\n",
    "scipy.stats.binom.pmf(3, 10, 0.5)\n",
    "# of\n",
    "from scipy import stats\n",
    "stats.binom.pmf(3, 10, 0.5)\n",
    "# of\n",
    "from scipy.stats import binom\n",
    "binom.pmf(3, 10, 0.5)\n",
    "```\n",
    "\n",
    "- merk op dat `binom` geen module is (maar een class),  \n",
    "  en `from scipy.stats.binom import pmf` werkt dan ook niet"
   ]
  },
  {
   "cell_type": "markdown",
   "metadata": {
    "slideshow": {
     "slide_type": "subslide"
    }
   },
   "source": [
    "## Python library import syntax (4)\n",
    "\n",
    "- het is gebruikelijk om veelgebruikte packages een verkorte naam  \n",
    "  te geven, zodat je niet steeds lange samengestelde namen hoeft  \n",
    "  uit te schrijven in je code\n",
    "- in het onderstaande voorbeeld wordt de naam `st` gegeven  \n",
    "  aan de hele module `stats` in de package `scipy`:\n",
    "\n",
    "```python\n",
    "import scipy.stats as st\n",
    "st.binom.pdf(3, 10, 0.5)\n",
    "```\n",
    "\n",
    "- zowel modules als functies kunnen op deze manier worden hernoemd  \n",
    "  tijdens de import:  \n",
    "\n",
    "```python\n",
    "from math import sin as sin_rad\n",
    "from math import radians\n",
    "\n",
    "sin_deg = lambda x: sin_rad(radians(x))\n",
    "print(sin_deg(30))\n",
    "```"
   ]
  },
  {
   "cell_type": "markdown",
   "metadata": {
    "slideshow": {
     "slide_type": "subslide"
    }
   },
   "source": [
    "## Python library import syntax (5)\n",
    "\n",
    "- in veel Python notebooks op internet kom je ook het volgende  \n",
    "  nogal eens tegen:\n",
    "\n",
    "```python\n",
    "%pylab\n",
    "```\n",
    "\n",
    "- dit statement is speciaal voor IPython en het doet, in &eacute;&eacute;n keer,  \n",
    "  een aantal veelgebruikte imports:\n",
    "\n",
    "```python\n",
    "import numpy\n",
    "import matplotlib\n",
    "from matplotlib import pylab, mlab, pyplot\n",
    "np = numpy\n",
    "plt = pyplot\n",
    "\n",
    "from IPython.display import display\n",
    "from IPython.core.pylabtools import figsize, getfigs\n",
    "\n",
    "from pylab import *\n",
    "from numpy import *\n",
    "```"
   ]
  },
  {
   "cell_type": "markdown",
   "metadata": {
    "slideshow": {
     "slide_type": "slide"
    }
   },
   "source": [
    "## Monte-Carlosimulatie (1)\n",
    "\n",
    "- Monte-Carlosimulatie is een simulatietechniek waarbij een fysiek proces  \n",
    "  vele malen wordt gesimuleerd, elke keer met andere startcondities\n",
    "- het resultaat van zo'n verzameling simulaties is een verdelingsfunctie  \n",
    "  die het hele gebied van mogelijke uitkomsten weergeeft\n",
    "\n",
    "\n",
    "- de techniek wordt veel toegepast, bijvoorbeeld om processen met  \n",
    "  veel onzekerheid, zoals economische processen, te simuleren"
   ]
  },
  {
   "cell_type": "markdown",
   "metadata": {
    "slideshow": {
     "slide_type": "subslide"
    }
   },
   "source": [
    "## Monte-Carlosimulatie (2)\n",
    "\n",
    "- voorbeeld: $\\pi$ benaderen met een stochastisch model\n",
    "\n",
    "![Pi schatten](images/estimate_pi.png)\n",
    "\n",
    "- in de bovenstaande afbeelding zie je een vierkant met de  \n",
    "  een ingeschreven kwartcirkel\n",
    "- wanneer we de zijden van het vierkant $1$ nemen,  \n",
    "  is de oppervlakte van het vierkant $1 \\cdot 1 = 1$  \n",
    "  en de oppervlakte van de kwartcirkel \n",
    "  $\\large{\\frac{\\pi \\cdot 1^2}{4} = \\frac{\\pi}{4}}$\n",
    "\n",
    "- we kunnen nu $n$ maal een willekeurig coordinaat in het vierkant kiezen en  \n",
    "  tellen hoe vaak het coordinaat in de cirkel ligt, of erbuiten\n",
    "- dan is $\\frac{\\textrm{aantal in cirkel}}{n}$ een benadering voor $\\pi$"
   ]
  },
  {
   "cell_type": "code",
   "execution_count": 31,
   "metadata": {
    "collapsed": false,
    "slideshow": {
     "slide_type": "subslide"
    }
   },
   "outputs": [
    {
     "name": "stdout",
     "output_type": "stream",
     "text": [
      "Pi ~= 0.77700000\n"
     ]
    }
   ],
   "source": [
    "# Monte-Carlosimulatie - pi benaderen\n",
    "import numpy as np\n",
    "\n",
    "n = 1000  # aantal herhalingen experiment\n",
    "aantal_in_cirkel = 0\n",
    "\n",
    "for i in range(n):\n",
    "    # experiment:\n",
    "    x, y = np.random.uniform(0, 1), np.random.uniform(0, 1)\n",
    "    in_cirkel = np.sqrt(x**2 + y**2) < 1\n",
    "    if in_cirkel:\n",
    "        aantal_in_cirkel += 1\n",
    "\n",
    "# benadering pi:\n",
    "print(\"Pi ~= {:.8f}\".format(aantal_in_cirkel / n))"
   ]
  },
  {
   "cell_type": "markdown",
   "metadata": {
    "slideshow": {
     "slide_type": "subslide"
    }
   },
   "source": [
    "## Monte-Carlosimulatie (3)\n",
    "\n",
    "- het algemene patroon bij een Monte-Carlosimulatie verloopt als volgt:  \n",
    "  - maak een model voor je experiment\n",
    "  - bepaal het domein van de inputvariabelen van je model\n",
    "  - herhaal het experiment:  \n",
    "    - genereer willekeurige waarden voor de inputvariabelen\n",
    "    - voer een deterministische berekening uit met de inputvariabelen\n",
    "  - voeg de resultaten samen en analyseer"
   ]
  },
  {
   "cell_type": "markdown",
   "metadata": {
    "slideshow": {
     "slide_type": "subslide"
    }
   },
   "source": [
    "## Monte-Carlosimulatie (4)\n",
    "\n",
    "- neem aan dat de kans op het krijgen van een jongen  \n",
    "  gelijk is aan de kans op een meisje (beide kansen zijn dus $1/2$)\n",
    "- we zijn geïnteresseerd in een gezin met $n$ kinderen,  \n",
    "  waarvan $m$ jongens en $n-m$ meisjes\n",
    "- de kans dat in een gezin met n kinderen, m daarvan een jongen zijn,  \n",
    "  kun je exact uitrekenen, maar je kunt die kans ook benaderen \n",
    "  met een simulatie\n",
    "\n",
    "- beschrijf het experiment dat je zult gebruiken in een  \n",
    "  Monte-Carlosimulatie om bovenstaand probleem te simuleren\n",
    "- schrijf een Python programma om de Monte-Carlosimulatie uit te voeren"
   ]
  },
  {
   "cell_type": "code",
   "execution_count": null,
   "metadata": {
    "collapsed": true
   },
   "outputs": [],
   "source": []
  }
 ],
 "metadata": {
  "celltoolbar": "Slideshow",
  "kernelspec": {
   "display_name": "Python 3",
   "language": "python",
   "name": "python3"
  },
  "language_info": {
   "codemirror_mode": {
    "name": "ipython",
    "version": 3
   },
   "file_extension": ".py",
   "mimetype": "text/x-python",
   "name": "python",
   "nbconvert_exporter": "python",
   "pygments_lexer": "ipython3",
   "version": "3.5.1"
  }
 },
 "nbformat": 4,
 "nbformat_minor": 0
}
