{
 "cells": [
  {
   "cell_type": "markdown",
   "metadata": {},
   "source": [
    "## Opgave 1\n",
    "\n",
    "1. Maak een lege lijst aan en noem deze lijst `getallen_a`.  \n",
    "2. Vul deze lijst via een for loop met de getallen 2, 4, 6 , 8 en 10  \n",
    "3. Check of de lijst er zo uitziet als verwacht, hoeveel elementen bevat je lijst? Welk getal staat op plek 0? En op plek 3? En op plek -1?  \n",
    "4. Voeg het getal 14.0 toe achter aan je lijst, en het getal 7 op plek 2.  \n",
    "5. Maak een lijst `getallen_b` aan: [3.14, 8, 0] en vervang `getallen_a` door de samenvoeging van `getallen_a` en `getallen_b`  \n",
    "6. In `getallen_a`: op welke plek staat het getal 3.14? En het getal 8? Hoe vaak komt het getal 8 voor in de lijst? Bevat de lijst het getal 4? Wat zijn de minimale en maximale waarde die in de lijst voorkomen?  \n",
    "7. Verwijder het getal op plek 4.  \n",
    "8. Sorteer de lijst en geef hem ook eens van achter naar voren weer.  \n"
   ]
  },
  {
   "cell_type": "markdown",
   "metadata": {},
   "source": [
    "## Opgave 2\n",
    "\n",
    "1. Schrijf een programma dat het aantal elementen (de lengte) van een list variable afdrukt naar het scherm zonder de `len()`-functie te gebruiken.\n",
    "2. Schrijf een programma dat alle elementen in een list vermenigvuldigt met een door de gebruiker opgegeven getal en de uitkomsten afdrukt.\n",
    "3. Schrijf een programma dat bepaalt of een door de gebruiker opgegeven getal een element is van een list. Gebruik daarbij niet de `in`-operator of de functies `index()` of `count()`.\n",
    "4. Schrijf een programma dat kan bepalen of twee lists (minstens) een gemeenschappelijk element hebben. Gebruik een geneste (dubbele) `for`-loop om dit te bepalen.\n",
    "5. Schrijf en programma dat een 'histogram' kan afdrukken voor een list van integers. Voor de list [4, 9, 7] bijvoorbeeld, zou het onderstaande afgedrukt moeten worden:  \n",
    "\n",
    "```\n",
    "****\n",
    "*********\n",
    "*******\n",
    "```"
   ]
  },
  {
   "cell_type": "markdown",
   "metadata": {},
   "source": [
    "## Opdracht 3\n",
    "\n",
    "Tijdens het college is (naive) Bayesian spam detection besproken. Er werden twee voorbeelden behandeld en in beide gevallen werd de kans op spam bepaald voor een bericht van één woord. Maar de meeste e-mails bestaan uit meer woorden.\n",
    "\n",
    "Wanneer we, helaas wat optimistisch, de aanname doen dat woorden in e-mails onafhankelijk van elkaar optreden, kunnen we met de behandelde vergelijking (Bayes' theorem) uitspraken doen over de kans dat een e-mail met meerdere woorden spam is.  \n",
    "  \n",
    "1. Gegeven de trainingsdata zoals gebruikt in het college, zie evt. hieronder, bereken met hand de kans op het bericht `M = \"rolex korting amsterdam\"` als je uitgaat van onderlinge onafhankelijkheid van de woorden in een bericht.  \n",
    "   - Spam berichten: `rolex replica korting`, `klik korting viagra`, `korting politiek krediet`  \n",
    "   - Ham berichten: `politiek bepaalt korting`, `lariekoek in politiek`, `klik politiek verslag`, `journalist bespeelt politiek`, `politiek amsterdam stagneert`  \n",
    "2. Schrijf een programma om voor berichten van meerdere woorden (minstens 1) de kans op spam uit te kunnen rekenen.  \n",
    "Je kunt een bericht eenvoudig in woorden splitsen in Python:  \n",
    "```python\n",
    "message = \"rolex korting amsterdam\"\n",
    "words = message.split()  # split maakt een list van de elementen\n",
    "                            # na het splitsen op whitespace\n",
    "```\n",
    "\n",
    "*Hint:* begin met uit uitdrukken van $P(M|Spam)$ als $P(W_1, W_2, W_3|Spam) = P(W_1|Spam) \\cdot P(W_2|Spam) \\cdot P(W_3|Spam)$ en evenzo voor $P(M|Ham)$."
   ]
  }
 ],
 "metadata": {
  "kernelspec": {
   "display_name": "Python 3",
   "language": "python",
   "name": "python3"
  },
  "language_info": {
   "codemirror_mode": {
    "name": "ipython",
    "version": 3
   },
   "file_extension": ".py",
   "mimetype": "text/x-python",
   "name": "python",
   "nbconvert_exporter": "python",
   "pygments_lexer": "ipython3",
   "version": "3.4.3"
  }
 },
 "nbformat": 4,
 "nbformat_minor": 0
}
