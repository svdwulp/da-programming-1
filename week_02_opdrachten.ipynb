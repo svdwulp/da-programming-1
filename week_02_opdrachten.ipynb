{
 "cells": [
  {
   "cell_type": "markdown",
   "metadata": {},
   "source": [
    "### Opdracht 1\n",
    "\n",
    "- vorige week heb je Python waarheidstabellen laten afdrukken,  \n",
    "maar die waren nogal schots en scheef. Pas het onderstaande programma aan,  \n",
    "zodat de afgedrukte tabel leesbaar en netjes uitgelijnd afgedrukt wordt.\n",
    "```python\n",
    "print(\"A\", \"B\", \"A|B\", \"A&B\", \"not A\")\n",
    "for A in [False, True]:\n",
    "    for B in [False, True]:\n",
    "        print(A, B, A or B, A and B, not A)\n",
    "```"
   ]
  },
  {
   "cell_type": "code",
   "execution_count": null,
   "metadata": {
    "collapsed": false
   },
   "outputs": [],
   "source": [
    "print(\"A\", \"B\", \"A|B\", \"A&B\", \"not A\")\n",
    "for A in [False, True]:\n",
    "    for B in [False, True]:\n",
    "        print(A, B, A or B, A and B, not A)\n"
   ]
  },
  {
   "cell_type": "markdown",
   "metadata": {},
   "source": [
    "### Opdracht 2\n",
    "\n",
    "- pas het programma voor talstelsel conversie zo aan dat  \n",
    "ook het hexadecimale stelsel correcte conversies oplevert  \n",
    "\n",
    "```python\n",
    "number = 987\n",
    "rbase = 16\n",
    "result = \"\"\n",
    "\n",
    "while number > 0:\n",
    "    remainder = number % rbase\n",
    "    result = str(remainder) + result\n",
    "    number = number // rbase\n",
    "\n",
    "print(result)\n",
    "```"
   ]
  },
  {
   "cell_type": "code",
   "execution_count": null,
   "metadata": {
    "collapsed": false
   },
   "outputs": [],
   "source": [
    "number = 987\n",
    "rbase = 16\n",
    "result = \"\"\n",
    "\n",
    "while number > 0:\n",
    "    remainder = number % rbase\n",
    "    result = str(remainder) + result\n",
    "    number = number // rbase\n",
    "\n",
    "print(result)"
   ]
  },
  {
   "cell_type": "markdown",
   "metadata": {},
   "source": [
    "## Opdracht 3\n",
    "\n",
    "- zoek met behulp van Jupyter Notebook's ingebouwde Python documentatie  \n",
    "uit hoe de `input()` functie werkt\n",
    "- schrijf een kort programma dat de gebruiker vraagt om zijn of haar naam,  \n",
    "en daarmee een groet afdrukt:  \n",
    "`Hoe heet je:` *`Pascal`*  \n",
    "`Hallo Pascal!`"
   ]
  },
  {
   "cell_type": "code",
   "execution_count": 18,
   "metadata": {
    "collapsed": false
   },
   "outputs": [],
   "source": [
    "## vraag de gebruiker om zijn of haar naam,\n",
    "## en druk daarmee een groet af\n",
    "\n"
   ]
  },
  {
   "cell_type": "markdown",
   "metadata": {},
   "source": [
    "## Opdracht 4\n",
    "\n",
    "Pas het onderstaande programma aan, zodat het *wel* werkt.\n",
    "```python\n",
    "mass = input(\"Geef de massa (in kg): \")\n",
    "velocity = input(\"Geef de snelheid (in m/s): \")\n",
    "momentum = mass * velocity\n",
    "print(\"Momentum: {} N/s\".format(momentum))\n",
    "```"
   ]
  },
  {
   "cell_type": "code",
   "execution_count": null,
   "metadata": {
    "collapsed": false
   },
   "outputs": [],
   "source": [
    "mass = input(\"Geef de massa (in kg): \")\n",
    "velocity = input(\"Geef de snelheid (in m/s): \")\n",
    "momentum = mass * velocity\n",
    "print(\"Momentum: {} N/s\".format(momentum))"
   ]
  },
  {
   "cell_type": "code",
   "execution_count": null,
   "metadata": {
    "collapsed": true
   },
   "outputs": [],
   "source": []
  }
 ],
 "metadata": {
  "kernelspec": {
   "display_name": "Python 3",
   "language": "python",
   "name": "python3"
  },
  "language_info": {
   "codemirror_mode": {
    "name": "ipython",
    "version": 3
   },
   "file_extension": ".py",
   "mimetype": "text/x-python",
   "name": "python",
   "nbconvert_exporter": "python",
   "pygments_lexer": "ipython3",
   "version": "3.4.3"
  }
 },
 "nbformat": 4,
 "nbformat_minor": 0
}
