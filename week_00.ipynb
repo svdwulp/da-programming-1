{
 "cells": [
  {
   "cell_type": "markdown",
   "metadata": {},
   "source": [
    "# Data Analysis - Programming - 1\n",
    "## Week 0 - Installatie Anaconda/Python 3\n",
    "\n",
    "In periode 1 heb je Python geprogrammeerd in een webbrowser. Vanaf deze periode gebruiken we Python 3 (3.4, 3.5, als het maar begint met 3). Voor een eenvoudige installatie van Python en veelgebruikte bijbehorende bibliotheken maken we gebruik van [Anaconda](http://docs.continuum.io/anaconda/index).\n",
    "\n",
    "### Installatie\n",
    "- bepaal welk OS je gebruikt (Microsoft Windows, Apple OS-X, Linux)\n",
    "- bepaal welke versie van het OS je gebruikt (32-bit of 64-bit),  \n",
    "gebruik voor Windows eventueel [deze instructie](http://windows.microsoft.com/nl-NL/windows/which-operating-system) om dit te achterhalen,  \n",
    "OS-X is tegenwoordig altijd 64-bit en  \n",
    "als je Linux gebruikt, weet je het hopelijk zelf wel\n",
    "- zoek de juiste Anaconda installer en [download](https://www.continuum.io/downloads) deze\n",
    "- installeer Anaconda door de gedownloade installer te runnen,  \n",
    "gebruik daarbij de standaard instellingen\n",
    "\n",
    "### Testen of het werkt - IPython (3.4 of 3.5) Notebook starten\n",
    "- in je startmenu (of iets dergelijks) heb je nu, als alles goed gegaan is,  \n",
    "een snelkoppeling genaamd *IPython (3.5) Notebook*\n",
    "- start deze snelkoppeling\n",
    "- je krijgt nu een zwart venster waarin een IPython Kernel draait (whatever that may be) en  \n",
    "je default browser wordt geopend met daarin de Home folder van je IPython notebooks\n",
    "- als dat allemaal is gelukt, kun je dinsdag voortvarend aan de slag!\n",
    "- je kunt alle geopende vensters gewoon sluiten"
   ]
  },
  {
   "cell_type": "code",
   "execution_count": null,
   "metadata": {
    "collapsed": true
   },
   "outputs": [],
   "source": []
  }
 ],
 "metadata": {
  "kernelspec": {
   "display_name": "Python 3",
   "language": "python",
   "name": "python3"
  },
  "language_info": {
   "codemirror_mode": {
    "name": "ipython",
    "version": 3
   },
   "file_extension": ".py",
   "mimetype": "text/x-python",
   "name": "python",
   "nbconvert_exporter": "python",
   "pygments_lexer": "ipython3",
   "version": "3.4.3"
  }
 },
 "nbformat": 4,
 "nbformat_minor": 0
}
