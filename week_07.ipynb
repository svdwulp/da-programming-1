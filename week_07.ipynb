{
 "cells": [
  {
   "cell_type": "markdown",
   "metadata": {
    "slideshow": {
     "slide_type": "slide"
    }
   },
   "source": [
    "# Data Analysis - Programming - 1\n",
    "## Week 7"
   ]
  },
  {
   "cell_type": "markdown",
   "metadata": {
    "slideshow": {
     "slide_type": "fragment"
    }
   },
   "source": [
    "## Onderwerpen week 7:\n",
    "\n",
    "Deze week weinig nieuwe stof, maar vooral veel oefeningen. Je hoeft ze niet allemaal deze week af te krijgen, bewaar er eventueel een paar om straks te oefenen voor een toets.\n",
    "\n",
    "- nested loops\n",
    "- nested lists"
   ]
  },
  {
   "cell_type": "markdown",
   "metadata": {
    "slideshow": {
     "slide_type": "slide"
    }
   },
   "source": [
    "## Nested loops (1)\n",
    "\n",
    "- hierarchische structuren kom je veel tegen tijdens het programmeren,  \n",
    "  zowel in de code als in de gebruikte data. Het is vaak een goede manier  \n",
    "  om de wereld te modelleren.\n",
    "- je bent terloops al verschillende hierarchische structuren tegen gekomen,  \n",
    "  zoals geneste if-statements:  \n",
    "\n",
    "```python\n",
    "px, py = 12, -4\n",
    "# determine quadrant for coordinate (px, py)\n",
    "if py >= 0:\n",
    "    if px >= 0:\n",
    "        quadrant = 1\n",
    "    else:\n",
    "        quadrant = 2\n",
    "else:\n",
    "    if px < 0 :\n",
    "        quadrant = 3\n",
    "    else:\n",
    "        quadrant = 4\n",
    "```"
   ]
  },
  {
   "cell_type": "markdown",
   "metadata": {
    "slideshow": {
     "slide_type": "subslide"
    }
   },
   "source": [
    "## Nested loops (2)\n",
    "\n",
    "- for- en while-loops kunnen ook genest worden,  \n",
    "  bijvoorbeeld om alle mogelijke combinaties van twee variabelen met  \n",
    "  verschillende mogelijke waarden te maken:\n",
    "\n",
    "```python\n",
    "counter = [0] * 11\n",
    "for d1 in range(1, 7):\n",
    "    for d2 in range(1, 7):\n",
    "        print(d1, d2)\n",
    "        counter[d1 + d2 - 2] += 1\n",
    "for i in range(len(counter)):\n",
    "    print(\"{:2} {:2}\".format(i+2, counter[i]))\n",
    "print(\"Tot {:3}\".format(sum(counter)))\n",
    "```"
   ]
  },
  {
   "cell_type": "markdown",
   "metadata": {
    "slideshow": {
     "slide_type": "subslide"
    }
   },
   "source": [
    "### Opgave 1\n",
    "\n",
    "Schrijf een programma om een antwoord op de volgende vraag te vinden.  \n",
    "  \n",
    "Wat is bij het gooien met drie zeszijdige dobbelen de kans op het gooien van een totaal groter dan 12?"
   ]
  },
  {
   "cell_type": "markdown",
   "metadata": {
    "slideshow": {
     "slide_type": "subslide"
    }
   },
   "source": [
    "## Nested loops (3)\n",
    "\n",
    "- bij het werken met nested loops zul je wel op moeten letten dat  \n",
    "  het aantal combinaties, en daarmee de hoeveelheid werk voor de computer,  \n",
    "  al snel groot wordt:\n",
    "\n",
    "```python\n",
    "for x in range(100):\n",
    "    for y in range(100):\n",
    "        for z in range(100):\n",
    "            fxyz = x**2 - 2*y**2 + 0.5*z**0.5\n",
    "```"
   ]
  },
  {
   "cell_type": "markdown",
   "metadata": {
    "slideshow": {
     "slide_type": "slide"
    }
   },
   "source": [
    "## Nested lists (1)\n",
    "\n",
    "- ook bij datastructuren kom je hierarchische organisatie vaak tegen,  \n",
    "  bijvoorbeeld om een matrix te modelleren:\n",
    "\n",
    "```python\n",
    "identity = []\n",
    "size = 5\n",
    "for irow in range(size):\n",
    "    row = []\n",
    "    for icol in range(size):\n",
    "        if irow == icol:\n",
    "            row.append(1)\n",
    "        else:\n",
    "            row.append(0)\n",
    "    identity.append(row)\n",
    "print(identity)\n",
    "print(identity[0][0], identity[0][1])\n",
    "```"
   ]
  },
  {
   "cell_type": "markdown",
   "metadata": {
    "slideshow": {
     "slide_type": "subslide"
    }
   },
   "source": [
    "## Nested lists (2)\n",
    "\n",
    "- lists in Python hebben wel een eigenaardigheid waar je vooral bij  \n",
    "  nested lists snel tegenaan loopt:\n",
    "\n",
    "```python\n",
    "filled = [[]] * 5\n",
    "for i in range(5):\n",
    "    for j in range(5):\n",
    "        filled[j].append(i + 5 * j)\n",
    "print(filled)\n",
    "# expected structure:\n",
    "# [[ 0,  1,  2,  3,  4],\n",
    "#  [ 5,  6,  7,  8,  9],\n",
    "#  [10, 11, 12, 13, 14],\n",
    "#  [15, 16, 17, 18, 19],\n",
    "#  [20, 21, 22, 23, 24]]\n",
    "```"
   ]
  },
  {
   "cell_type": "markdown",
   "metadata": {
    "slideshow": {
     "slide_type": "fragment"
    }
   },
   "source": [
    "- wat gaat er mis?\n",
    "- de 5 nested lists in de list filled zijn allemaal precies dezelfde list!\n",
    "- een oplossing:\n",
    "\n",
    "```python\n",
    "filled = []\n",
    "for i in range(5):\n",
    "    filled.append([])\n",
    "```"
   ]
  },
  {
   "cell_type": "code",
   "execution_count": 18,
   "metadata": {
    "collapsed": false,
    "slideshow": {
     "slide_type": "subslide"
    }
   },
   "outputs": [
    {
     "name": "stdout",
     "output_type": "stream",
     "text": [
      "[[0, 5, 10, 15, 20, 1, 6, 11, 16, 21, 2, 7, 12, 17, 22, 3, 8, 13, 18, 23, 4, 9, 14, 19, 24], [0, 5, 10, 15, 20, 1, 6, 11, 16, 21, 2, 7, 12, 17, 22, 3, 8, 13, 18, 23, 4, 9, 14, 19, 24], [0, 5, 10, 15, 20, 1, 6, 11, 16, 21, 2, 7, 12, 17, 22, 3, 8, 13, 18, 23, 4, 9, 14, 19, 24], [0, 5, 10, 15, 20, 1, 6, 11, 16, 21, 2, 7, 12, 17, 22, 3, 8, 13, 18, 23, 4, 9, 14, 19, 24], [0, 5, 10, 15, 20, 1, 6, 11, 16, 21, 2, 7, 12, 17, 22, 3, 8, 13, 18, 23, 4, 9, 14, 19, 24]]\n"
     ]
    }
   ],
   "source": [
    "filled = [[]] * 5\n",
    "for i in range(5):\n",
    "    for j in range(5):\n",
    "        filled[j].append(5 * j + i)\n",
    "print(filled)\n",
    "# expected structure:\n",
    "# [[ 0,  1,  2,  3,  4],\n",
    "#  [ 5,  6,  7,  8,  9],\n",
    "#  [10, 11, 12, 13, 14],\n",
    "#  [15, 16, 17, 18, 19],\n",
    "#  [20, 21, 22, 23, 24]]"
   ]
  }
 ],
 "metadata": {
  "celltoolbar": "Slideshow",
  "kernelspec": {
   "display_name": "Python 3",
   "language": "python",
   "name": "python3"
  },
  "language_info": {
   "codemirror_mode": {
    "name": "ipython",
    "version": 3
   },
   "file_extension": ".py",
   "mimetype": "text/x-python",
   "name": "python",
   "nbconvert_exporter": "python",
   "pygments_lexer": "ipython3",
   "version": "3.4.3"
  }
 },
 "nbformat": 4,
 "nbformat_minor": 0
}
