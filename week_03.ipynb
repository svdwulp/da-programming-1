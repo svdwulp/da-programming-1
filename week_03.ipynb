{
 "cells": [
  {
   "cell_type": "markdown",
   "metadata": {
    "slideshow": {
     "slide_type": "slide"
    }
   },
   "source": [
    "# Data Analysis - Programming - 1\n",
    "## Week 3"
   ]
  },
  {
   "cell_type": "markdown",
   "metadata": {
    "slideshow": {
     "slide_type": "fragment"
    }
   },
   "source": [
    "## Onderwerpen week 3:\n",
    "\n",
    "- lists, tuples en sets\n",
    "  - operators\n",
    "  - functions\n",
    "  - indexing\n",
    "  - slicing"
   ]
  },
  {
   "cell_type": "markdown",
   "metadata": {
    "collapsed": true,
    "slideshow": {
     "slide_type": "slide"
    }
   },
   "source": [
    "## Lists, tuples en sets (1)\n",
    "\n",
    "- bij veel problemen heb je te maken met  \n",
    "logische verzamelingen van waarden (ints, floats, strings)\n",
    "- een nieuwe variabelenaam definieren voor iedere waarde is  \n",
    "niet alleen onoverzichtelijk, maar leidt ook snel tot herhaling van code,  \n",
    "en een variabel aantal herhalingen zou onmogelijk zijn\n",
    "- een voorbeeldje:  \n",
    "  Een experiment bepaald de som de twee geworpen dobbelstenen.  \n",
    "  Simuleer het experiment drie keer en bepaal het gemiddelde en de (steekproef!)standaardafwijking."
   ]
  },
  {
   "cell_type": "code",
   "execution_count": 12,
   "metadata": {
    "collapsed": false,
    "slideshow": {
     "slide_type": "subslide"
    }
   },
   "outputs": [
    {
     "name": "stdout",
     "output_type": "stream",
     "text": [
      "Som van worpen: 7, 12, 5\n",
      "Gemiddelde: 8.000, standaard afwijking: 7.000\n"
     ]
    }
   ],
   "source": [
    "from random import randint\n",
    "from math import sqrt\n",
    "\n",
    "t1 = randint(1, 6) + randint(1, 6)\n",
    "t2 = randint(1, 6) + randint(1, 6)\n",
    "t3 = randint(1, 6) + randint(1, 6)\n",
    "\n",
    "mu = (t1 + t2 + t3) / 3\n",
    "stddev = sqrt(((t1 - mu)**2 + (t2 - mu)**2 + t3 - mu)**2) / 2\n",
    "print(\"Som van worpen: {}, {}, {}\".format(t1, t2, t3))\n",
    "print(\"Gemiddelde: {:.3f}, standaard afwijking: {:.3f}\".format(\n",
    "    mu, stddev\n",
    "))"
   ]
  },
  {
   "cell_type": "markdown",
   "metadata": {
    "slideshow": {
     "slide_type": "subslide"
    }
   },
   "source": [
    "## Lists, tuples en sets (2)\n",
    "\n",
    "- in het voorgaande programma is het moeilijk om:\n",
    "  - het aantal dobbelstenen te variëren\n",
    "  - het aantal herhalingen van het experiment te variëren\n",
    "- wat we nodig hebben is een data type waarin we meerdere  \n",
    "waarden op kunnen slaan\n",
    "- Python kent daarvoor (onder andere) lists en tuples\n",
    "- list:\n",
    "  - nieuwe lists maak je met blokhaken:  \n",
    "  \n",
    "  ```python\n",
    "  throws = []  # maakt een lege lijst (zonder elementen)\n",
    "  throws = [11, 3, 8, 7]  # maakt een lijst met de opgegeven elementen\n",
    "  ```\n",
    "  - een list kan willekeurige andere datatypen bevatten,  \n",
    "zelfs andere lists:  \n",
    "  \n",
    "  ```python\n",
    "  throws = [[4, 6], [3, 6], [2, 2], [5, 4]]\n",
    "  ```"
   ]
  },
  {
   "cell_type": "markdown",
   "metadata": {
    "slideshow": {
     "slide_type": "subslide"
    }
   },
   "source": [
    "## Lists, tuples en sets (3)\n",
    "\n",
    "- elementen kunnen toegevoegd worden aan bestaande lists met de `append()`-functie\n",
    "- elementen kunnen op index verwijderd worden met het `del`-statement\n",
    "- een element op kan opgehaald of overschreven worden met indexing\n",
    "- het aantal elementen is op te vragen met de `len()`-functie:  \n",
    "  \n",
    "```python\n",
    "from random import randint\n",
    "\n",
    "throws = []\n",
    "for i in range(100):\n",
    "    throws.append(randint(1, 6) + randint(1, 6))\n",
    "print(\"Element met index 10: {}\".format(throws[10]))\n",
    "throws[0] = 7\n",
    "del throws[12]\n",
    "print(\"Aantal worpen: {}\".format(len(throws)))\n",
    "```\n",
    "- in [The Python Tutorial](https://docs.python.org/3/tutorial/datastructures.html) vind je nog veel meer handige functies die je op lists toe kunt passen"
   ]
  },
  {
   "cell_type": "markdown",
   "metadata": {
    "slideshow": {
     "slide_type": "subslide"
    }
   },
   "source": [
    "## Lists, tuples en sets (4)\n",
    "\n",
    "- lists kunnen in Python aangepast worden:  \n",
    "elementen kunnen toegevoegd en verwijderd worden,  \n",
    "de list groeit en krimt vanzelf naar de benodigde grootte\n",
    "- deze functionaliteit is niet altijd nodig,  \n",
    "soms kun je volstaan met *tuples*\n",
    "- tuples worden gemaakt met haakjes en de inhoud kan niet worden aangepast:\n",
    "\n",
    "```python\n",
    "ace_of_hearts = (\"H\", \"Ace\")\n",
    "deck = []\n",
    "for colour in [\"H\", \"D\", \"S\", \"C\"]:\n",
    "    for value in range(2, 11) + [\"J\", \"Q\", \"K\", \"A\"]:\n",
    "        deck.append((colour, value))\n",
    "```\n",
    "- tuples worden vooral gebruikt voor:\n",
    "  - modelleren van data die niet veranderlijk is\n",
    "  - praktischer en leesbaarder maken van sommige assignments\n",
    "  - meerdere waarden retourneren uit een functie"
   ]
  },
  {
   "cell_type": "markdown",
   "metadata": {
    "slideshow": {
     "slide_type": "subslide"
    }
   },
   "source": [
    "## Lists, tuples en sets (4)\n",
    "\n",
    "- in wiskunde is er het concept van de verzameling:\n",
    "  - een collectie van nul of meer elementen  \n",
    "  $A = \\{\\} = \\emptyset, B = \\{1\\}, C = \\{A, 5\\}$\n",
    "  - ieder element is uniek  \n",
    "  $\\{1, 2, 2, 2, 3\\} = \\{1, 2, 3\\}$\n",
    "  - waarbij volgorde niet relevant is\n",
    "- voor een list in Python gelden de laatste twee kenmerken niet\n",
    "- daarom heeft Python een apart datatype dat een verzameling  \n",
    "in de wiskundige zin modelleert, de `set`:  \n",
    "\n",
    "```python\n",
    "even = set([2, 4, 6])\n",
    "greater_than_3 = set([4, 5, 6])\n",
    "print(\"Vereniging {} en {} = {}\".format(\n",
    "    even, greater_than_3, even | greater_than_3\n",
    "))\n",
    "print(\"Doorsnede {} en {} = {}\".format(\n",
    "    even, greater_than_3, even & greater_than_3\n",
    "))\n",
    "print(\"Letters zonder s: {}\".format(\n",
    "    set(\"letters\") - set(\"s\")\n",
    "))\n",
    "```"
   ]
  },
  {
   "cell_type": "markdown",
   "metadata": {
    "slideshow": {
     "slide_type": "slide"
    }
   },
   "source": [
    "## Indexing en slicing (1)\n",
    "\n",
    "- list, tuple, str(ing) zijn allemaal *sequentiele* datatypen  \n",
    "(set *niet* omdat volgorde niet relevant is!)\n",
    "- iedere sequence kan worden geindexeerd, zoals je bij strings al hebt gezien,  \n",
    "waarmee je een element uit de sequence kunt ophalen, of,  \n",
    "in het geval van list, een element kunt vervangen  \n",
    "(string en tuple zijn *immutable* en kunnen niet veranderen nadat ze aangemaakt zijn)\n",
    "- indices $\\ge 0$ geven toegang tot een element op index\n",
    "- indices $< 0$ ook, maar dan vanaf het einde geteld,  \n",
    "dus `throws[-1]` levert het laatste element van de sequence throws en  \n",
    "`throws[-2]` levert het op een na laatste element"
   ]
  },
  {
   "cell_type": "markdown",
   "metadata": {
    "slideshow": {
     "slide_type": "subslide"
    }
   },
   "source": [
    "## Indexing en slicing (2)\n",
    "\n",
    "- waar je met indexing toegang krijgt tot één element,  \n",
    "geeft slicing toegang tot meerdere elementen, tegelijk\n",
    "- de notatie voor slicing is als volgt:  \n",
    "`sequence[start:stop:step]`  \n",
    "waarbij start, stop en step allemaal optioneel zijn  \n",
    "(maar niet allemaal tegelijk weggelaten kunnen worden)\n",
    "- start geeft de index van het eerste element dat je wilt,  \n",
    "stop geeft de index van het eerste element dat je *niet* wilt, en  \n",
    "step bepaalt de stapgrootte tussen de indices van de element die je wilt\n",
    "\n",
    "```python\n",
    "die = (1, 2, 3, 4, 5, 6)\n",
    "first = die[0]  # of: die[0:1:1]  -> (1)\n",
    "middle = [2:4]  # (3, 4)\n",
    "odd = die[0::2]  # (1, 3, 5)\n",
    "even = die[1::2]  # (2, 4, 6)\n",
    "reverse_die = die[::-1]  # (6, 5, 4, 3, 2, 1)\n",
    "```"
   ]
  },
  {
   "cell_type": "markdown",
   "metadata": {
    "slideshow": {
     "slide_type": "slide"
    }
   },
   "source": [
    "## Spam, spam, spam (1)\n",
    "\n",
    "- *spam* is ongewenste e-mail,  \n",
    "e-mail die geen spam is, noemen we *ham*\n",
    "- Bayes' theorem:  \n",
    "$P(A|B) = \\large{\\frac{P(B|A) * P(A)}{P(B)}}$\n",
    "- bepalen of een e-mail spam is:\n",
    "  - gegeven een event M, de message,  \n",
    "  de event Spam, en de event Ham,\n",
    "  - $P(Spam|M) = \\large{\\frac{P(M|Spam) \\cdot P(Spam)}\n",
    "  {P(M|Spam) \\cdot P(Spam) + P(M|Ham) \\cdot P(Ham)}}$"
   ]
  },
  {
   "cell_type": "markdown",
   "metadata": {
    "slideshow": {
     "slide_type": "fragment"
    }
   },
   "source": [
    "- $P(Spam|M)$: de kans op spam, gegeven de message M\n",
    "- $P(M|Spam)$: de kans op de message M, gegeven dat het spam is\n",
    "- $P(Spam)$, $P(Ham)$: de kans dat een willekeurige message spam/ham is\n",
    "- $P(M|Ham)$: de kans op de message M, gegeven dat het ham is"
   ]
  },
  {
   "cell_type": "markdown",
   "metadata": {
    "slideshow": {
     "slide_type": "subslide"
    }
   },
   "source": [
    "## Spam, spam, spam (2)\n",
    "\n",
    "- Spam berichten:  \n",
    "\n",
    "```\n",
    "rolex replica korting\n",
    "klik korting viagra\n",
    "korting politiek krediet\n",
    "```\n",
    "- Ham berichten:  \n",
    "\n",
    "```\n",
    "politiek bepaalt korting\n",
    "lariekoek in politiek\n",
    "klik politiek verslag\n",
    "journalist bespeelt politiek\n",
    "politiek amsterdam stagneert\n",
    "```\n",
    "\n",
    "- Merk op dat het kan gebeuren dat je de kans op spam moet inschatten voor berichten die woorden bevatten die niet in je trainingsdatabase zitten. Dat zou problemen opleveren in de Bayesian theorem (ga na waarom).  \n",
    "In dat geval kun je de woorden negeren (door $P(W|Spam) = P(W|Ham) = 1$ te gebruiken) of Laplace smoothing gebruiken voor de onbekende woorden."
   ]
  },
  {
   "cell_type": "markdown",
   "metadata": {
    "slideshow": {
     "slide_type": "subslide"
    }
   },
   "source": [
    "## Spam, spam, spam (3)\n",
    "\n",
    "- met de hand:\n",
    "    - nieuw bericht M: `korting`\n",
    "    - bepaal $P(Spam|M)$"
   ]
  },
  {
   "cell_type": "markdown",
   "metadata": {
    "slideshow": {
     "slide_type": "fragment"
    }
   },
   "source": [
    "- met Python:\n",
    "    - nieuw bericht M: `klik`\n",
    "    - bepaal $P(Spam|M)$"
   ]
  }
 ],
 "metadata": {
  "celltoolbar": "Slideshow",
  "kernelspec": {
   "display_name": "Python 3",
   "language": "python",
   "name": "python3"
  },
  "language_info": {
   "codemirror_mode": {
    "name": "ipython",
    "version": 3
   },
   "file_extension": ".py",
   "mimetype": "text/x-python",
   "name": "python",
   "nbconvert_exporter": "python",
   "pygments_lexer": "ipython3",
   "version": "3.4.3"
  }
 },
 "nbformat": 4,
 "nbformat_minor": 0
}
