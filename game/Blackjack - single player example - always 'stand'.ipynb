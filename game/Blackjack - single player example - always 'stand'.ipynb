{
 "cells": [
  {
   "cell_type": "code",
   "execution_count": null,
   "metadata": {
    "collapsed": false
   },
   "outputs": [],
   "source": [
    "\"\"\"Single Player Black Example - Always Stand\n",
    "\n",
    "This program implements an example of a strategy for playing blackjack.\n",
    "The player will always choose 'stand' when given the opportunity.\n",
    "\"\"\"\n",
    "import random\n",
    "from blackjack import Player, Dealer\n",
    "\n",
    "\n",
    "def callback(subject, data):\n",
    "    if subject == \"decision\":\n",
    "        hand, dealer = data\n",
    "        return False\n",
    "    elif subject == \"card_seen\":\n",
    "        player, card = data\n",
    "    elif subject == \"result\":\n",
    "        result = data\n",
    "    elif subject == \"message\":\n",
    "        message = data\n",
    "        print(message)\n",
    "\n",
    "\n",
    "# 1 speler experiment:\n",
    "num_rounds = 10\n",
    "players = []\n",
    "players.append(\n",
    "    Player(\n",
    "        name=\"Player A\",\n",
    "        callback=callback\n",
    "    )\n",
    ")\n",
    "dealer = Dealer(players)\n",
    "for i in range(num_rounds):\n",
    "    dealer.play_round()\n",
    "    print()\n"
   ]
  },
  {
   "cell_type": "code",
   "execution_count": null,
   "metadata": {
    "collapsed": true
   },
   "outputs": [],
   "source": []
  }
 ],
 "metadata": {
  "kernelspec": {
   "display_name": "Python 3",
   "language": "python",
   "name": "python3"
  },
  "language_info": {
   "codemirror_mode": {
    "name": "ipython",
    "version": 3
   },
   "file_extension": ".py",
   "mimetype": "text/x-python",
   "name": "python",
   "nbconvert_exporter": "python",
   "pygments_lexer": "ipython3",
   "version": "3.4.3"
  }
 },
 "nbformat": 4,
 "nbformat_minor": 0
}
