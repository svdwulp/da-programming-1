{
 "cells": [
  {
   "cell_type": "markdown",
   "metadata": {},
   "source": [
    "### Week 8 - controle opdracht\n",
    "\n",
    "In de onderstaande Monte-Carlosimulatie wordt de inhoud van een bol met straal $r$ benanderd.\n",
    "Het experiment dat wordt herhaald is het kiezen van een willekeurig punt in de ruimte, binnen een 2r X 2r X 2r kubus waarvan het midden (zwaartepunt) op (0, 0, 0) ligt. Dan test je of het gekozen punt in de bol valt, of niet.  \n",
    "Vul zelf de uiteindelijke schatting van de inhoud van de bol in.  \n",
    "  \n",
    "*Let op*: `numpy.random.rand(n)` geeft lijstje met $n$ randoms in $\\big[0, 1\\big\\rangle$ terug. "
   ]
  },
  {
   "cell_type": "code",
   "execution_count": null,
   "metadata": {
    "collapsed": false
   },
   "outputs": [],
   "source": [
    "import numpy as np\n",
    "\n",
    "r = 1\n",
    "n = 25000\n",
    "aantal_succes = 0\n",
    "for i in range(n):\n",
    "    x, y, z = np.random.rand(3) * 2*r - r\n",
    "    if sqrt(x**2 + y**2 + z**2) < r:\n",
    "        aantal_succes += 1\n",
    "\n",
    "print(\"Schatting inhoud bol:\", VUL HIER JE BEREKENING VAN DE SCHATTING IN)"
   ]
  },
  {
   "cell_type": "code",
   "execution_count": null,
   "metadata": {
    "collapsed": true
   },
   "outputs": [],
   "source": []
  }
 ],
 "metadata": {
  "kernelspec": {
   "display_name": "Python 3",
   "language": "python",
   "name": "python3"
  },
  "language_info": {
   "codemirror_mode": {
    "name": "ipython",
    "version": 3
   },
   "file_extension": ".py",
   "mimetype": "text/x-python",
   "name": "python",
   "nbconvert_exporter": "python",
   "pygments_lexer": "ipython3",
   "version": "3.4.3"
  }
 },
 "nbformat": 4,
 "nbformat_minor": 0
}
