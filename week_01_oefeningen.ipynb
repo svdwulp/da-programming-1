{
 "cells": [
  {
   "cell_type": "markdown",
   "metadata": {},
   "source": [
    "# Data Analysis - Programming\n",
    "## Week 1\n",
    "## Oefeningen\n",
    "\n",
    "1. Schrijf een Python programma dat de waarheidstabel van de volgende expressie produceert:  \n",
    "$\\neg{(A \\lor B)}$ (Quine's Dagger)  \n",
    "<br/>\n",
    "2. De expressies uit opdracht 3 en 4 (in de slides) hebben een eigen naam,  \n",
    "$(\\neg{A}) \\lor B$ wordt ook wel *implicatie* genoemd en genoteerd als $A \\implies B$,  \n",
    "$(A \\lor B) \\land \\neg{(A \\land B)}$ wordt ook wel *exclusieve of* (of *xor*) genoemd en genoteerd als $A \\oplus B$.  \n",
    "<br/>De operator $\\Leftrightarrow$ wordt *equivalentie* (gelijkheid) genoemd.  \n",
    "De expressie $A \\Leftrightarrow B$ levert *alleen* True op, wanneer de waarde van $A$ gelijk is aan die van $B$.  \n",
    "Bedenk een expressie in $A$ en $B$ met behulp van de operatoren *or*, *and* en *not* die precies het resultaat van de operator *equivalentie* oplevert en controleer je expressie met een Python programma.  \n",
    "<table width=\"50%\">\n",
    "  <tr><th>$A$</th><th>$B$</th><th>$A \\Leftrightarrow B$</th></tr>\n",
    "  <tr><td>False</td><td>False</td><td>True</td></tr>\n",
    "  <tr><td>False</td><td>True</td><td>False</td></tr>\n",
    "  <tr><td>True</td><td>False</td><td>False</td></tr>\n",
    "  <tr><td>True</td><td>True</td><td>True</td></tr>\n",
    "</table>\n",
    "<br/><br/>\n",
    "3. Strikt genomen zijn de extra operatoren uit opgave 2 niet nodig, want je kunt ze namaken met *or*, *and* en *not*.  \n",
    "Eigenlijk kun je zelfs rondkomen met alleen *or* en *not* !  \n",
    "Bedenk een combinatie van *or* en *not* waarbij de waarheidstabel hetzelfde is als die van *and*. Controleer je expressie met een Python programma.   \n",
    "<table width=\"50%\">\n",
    "  <tr><th>$A$</th><th>$B$</th><th>$A \\land B$</th></tr>\n",
    "  <tr><td>False</td><td>False</td><td>False</td></tr>\n",
    "  <tr><td>False</td><td>True</td><td>False</td></tr>\n",
    "  <tr><td>True</td><td>False</td><td>False</td></tr>\n",
    "  <tr><td>True</td><td>True</td><td>True</td></tr>\n",
    "</table>\n",
    "<br/><br/>\n",
    "4. Een *tautologie* is een expressie die altijd *waar* oplevert, ongeacht de invulling van de variabelen.  \n",
    "De uitdrukking $A \\lor \\neg{A}$ is een voorbeeld van een tautologie.  \n",
    "Schrijf Python programma's om te bepalen of de onderstaande uitdrukkingen tautologieën zijn.  \n",
    "*Let op: de implicatie $A \\implies B$ kun je uitrekenen, als in opgave 2 beschreven, met $(\\neg{A}) \\lor B$*  \n",
    "    1. $(A \\lor B) \\implies (A \\lor B)$  \n",
    "    2. $(A \\lor B) \\implies (A \\land B)$  \n",
    "    3. $(\\neg{A} \\implies B) \\land (\\neg{A} \\implies \\neg{B})$  \n",
    "    4. $((A \\implies B) \\land (B \\implies C)) \\implies (A \\implies C)$"
   ]
  },
  {
   "cell_type": "code",
   "execution_count": null,
   "metadata": {
    "collapsed": true
   },
   "outputs": [],
   "source": []
  }
 ],
 "metadata": {
  "kernelspec": {
   "display_name": "Python 3",
   "language": "python",
   "name": "python3"
  },
  "language_info": {
   "codemirror_mode": {
    "name": "ipython",
    "version": 3
   },
   "file_extension": ".py",
   "mimetype": "text/x-python",
   "name": "python",
   "nbconvert_exporter": "python",
   "pygments_lexer": "ipython3",
   "version": "3.4.3"
  }
 },
 "nbformat": 4,
 "nbformat_minor": 0
}
