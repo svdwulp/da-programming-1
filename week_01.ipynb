{
 "cells": [
  {
   "cell_type": "markdown",
   "metadata": {
    "slideshow": {
     "slide_type": "slide"
    }
   },
   "source": [
    "# Data Analysis - Programming - 1\n",
    "## Week 1"
   ]
  },
  {
   "cell_type": "markdown",
   "metadata": {
    "slideshow": {
     "slide_type": "fragment"
    }
   },
   "source": [
    "## Onderwerpen week 1:\n",
    "\n",
    "- installatie Python distributie Anaconda (Python 3.5)\n",
    "- gebruik Jupyter (voorheen: IPython Notebook)\n",
    "- print() functie\n",
    "- events in kansrekening en booleaanse algebra"
   ]
  },
  {
   "cell_type": "markdown",
   "metadata": {
    "collapsed": true,
    "slideshow": {
     "slide_type": "slide"
    }
   },
   "source": [
    "## Python 3 - Anaconda\n",
    "\n",
    "- in periode 1 heb je Python geprogrammeerd in een webbrowser\n",
    "- vanaf deze periode gebruiken we Python 3 (3.4, 3.5, als het maar begint met 3)\n",
    "- voor een eenvoudige installatie van Python en veelgebruikte \n",
    "  bijbehorende bibliotheken maken we gebruik van [Anaconda](http://docs.continuum.io/anaconda/index)"
   ]
  },
  {
   "cell_type": "markdown",
   "metadata": {
    "slideshow": {
     "slide_type": "fragment"
    }
   },
   "source": [
    "### Installatie\n",
    "- bepaal welk OS je gebruikt (Microsoft Windows, Apple OS-X, Linux)\n",
    "- bepaal welke versie van het OS je gebruikt (32-bit of 64-bit),  \n",
    "gebruik voor Windows eventueel [deze instructie](http://windows.microsoft.com/nl-NL/windows/which-operating-system) om dit te achterhalen,  \n",
    "OS-X is tegenwoordig altijd 64-bit en  \n",
    "als je Linux gebruikt, weet je het hopelijk zelf wel\n",
    "- zoek de juiste Anaconda installer en [download](https://www.continuum.io/downloads) deze\n",
    "- installeer Anaconda door de gedownloade installer te runnen,  \n",
    "gebruik daarbij de standaard instellingen"
   ]
  },
  {
   "cell_type": "markdown",
   "metadata": {
    "slideshow": {
     "slide_type": "slide"
    }
   },
   "source": [
    "## Met Python werken\n",
    "\n",
    "- Python programma's zijn tekstbestanden,  \n",
    "meestal hebben ze de [bestandsextensie](https://en.wikipedia.org/wiki/Filename_extension) .py (vergelijk .docx, .xlsx, .pdf)\n",
    "- voor het uitvoeren (runnen) worden de tekstbestanden eenmalig door de computer vertaald naar bytecode  \n",
    "waarna de instructies in bytecode worden uitgevoerd door een virtual machine\n",
    "- deze vertaling en executie wordt gedaan door een interpreter  \n",
    "die van oudsher vanaf de commandline wordt uitgevoerd"
   ]
  },
  {
   "cell_type": "markdown",
   "metadata": {
    "slideshow": {
     "slide_type": "fragment"
    }
   },
   "source": [
    "- een meer recente ontwikkeling is [Jupyter](http://jupyter.org/) (voorheen: IPython Notebook)\n",
    "- Jupyter is een programma dat je gebruikt in een webbrowser,  \n",
    "waarbij de programma's die schrijft 'live' worden uitgevoerd door een Python proces dat op de achtergrond draait\n",
    "- in Jupyter kun je programmacode (in Python, R of bijvoorbeeld Julia) schrijven en uitvoeren,  \n",
    "maar ook mixen met opgemaakte tekst (zoals deze slides), afbeeldingen en video\n",
    "- in plaats van volledige programma's schrijf je code in notebooks die direct worden uitgevoerd"
   ]
  },
  {
   "cell_type": "markdown",
   "metadata": {
    "slideshow": {
     "slide_type": "slide"
    }
   },
   "source": [
    "## Jupyter Notebook\n",
    "\n",
    "- start Jupyter Notebook door 'IPython (Py 3.5) Notebook' te kiezen in het startmenu\n",
    "- je default browser toont de Home folder voor notebooks\n",
    "- in de Home folder kun je nieuwe folders maken  \n",
    "en nieuwe notebooks:\n",
    "\n",
    "<img src=\"images/jupyter_new_folder.png\" alt=\"Screenshot - Jupyter-New-Folder menu\" />"
   ]
  },
  {
   "cell_type": "markdown",
   "metadata": {
    "slideshow": {
     "slide_type": "subslide"
    }
   },
   "source": [
    "### Opdracht 1\n",
    "\n",
    "- start Jupyter Notebook\n",
    "- maak een folder genaamd *week 01*\n",
    "- op de folder *week 01* en  \n",
    "maak een nieuw Python 3 notebook\n",
    "- noem je notebook *college week 1* en  \n",
    "sla het op"
   ]
  },
  {
   "cell_type": "markdown",
   "metadata": {
    "slideshow": {
     "slide_type": "slide"
    }
   },
   "source": [
    "## Jupyter Notebook - Python\n",
    "\n",
    "- een notebook bestaat uit 'cells'\n",
    "- iedere cell bevat ofwel Python code,  \n",
    "ofwel Markdown code (een opmaaktaal)\n",
    "- voor deze cursus heb je alleen code cells nodig\n",
    "\n",
    "\n",
    "- je kunt in de actieve cell typen door erop te dubbelklikken\n",
    "- de actieve cell wordt 'uitgevoerd' als je *Shift+Enter* toetst\n",
    "- na het uitvoeren, wordt eventuele output getoond onder de cell"
   ]
  },
  {
   "cell_type": "markdown",
   "metadata": {
    "slideshow": {
     "slide_type": "subslide"
    }
   },
   "source": [
    "### Opdracht 2\n",
    "\n",
    "- in het notebook *college week 1*,  \n",
    "type de volgende code over in de eerste cell en voer uit:\n",
    "\n",
    "\n",
    "```Python\n",
    "print(\"Hello world!\")\n",
    "```"
   ]
  },
  {
   "cell_type": "code",
   "execution_count": 30,
   "metadata": {
    "collapsed": false,
    "slideshow": {
     "slide_type": "subslide"
    }
   },
   "outputs": [
    {
     "name": "stdout",
     "output_type": "stream",
     "text": [
      "Hello world!\n"
     ]
    }
   ],
   "source": [
    "print(\"Hello world!\")"
   ]
  },
  {
   "cell_type": "markdown",
   "metadata": {
    "slideshow": {
     "slide_type": "slide"
    }
   },
   "source": [
    "## Python - print()\n",
    "\n",
    "- turtles?\n",
    "- print()\n",
    "\n",
    "Voorbeelden:\n",
    "```Python\n",
    "print(\"Hello world!\")\n",
    "print(\"x = \", 12.34)\n",
    "print(\"Eerste regel\\ntweede regel\")\n",
    "print()  # lege regel\n",
    "for i in range(10):\n",
    "    print(\"i =\", i)\n",
    "```"
   ]
  },
  {
   "cell_type": "code",
   "execution_count": 31,
   "metadata": {
    "collapsed": false,
    "slideshow": {
     "slide_type": "subslide"
    }
   },
   "outputs": [
    {
     "name": "stdout",
     "output_type": "stream",
     "text": [
      "Hello world!\n",
      "x = 12.34\n",
      "Eerste regel\n",
      "tweede regel\n",
      "\n",
      "i = 0\n",
      "i = 1\n",
      "i = 2\n",
      "i = 3\n",
      "i = 4\n",
      "i = 5\n",
      "i = 6\n",
      "i = 7\n",
      "i = 8\n",
      "i = 9\n"
     ]
    }
   ],
   "source": [
    "print(\"Hello world!\")\n",
    "print(\"x =\", 12.34)\n",
    "print(\"Eerste regel\\ntweede regel\")\n",
    "print()  # lege regel\n",
    "for i in range(10):\n",
    "    print(\"i =\", i)"
   ]
  },
  {
   "cell_type": "markdown",
   "metadata": {
    "slideshow": {
     "slide_type": "slide"
    }
   },
   "source": [
    "## Booleaanse algebra - verzamelingenleer (1)\n",
    "\n",
    "- bij de wiskundige beschrijving van experimenten in kansrekening wordt veel gewerkt met verzamelingen\n",
    "- een sample space $S = \\{E1, E2, E3, ...\\}$ bevat alle mogelijke uitkomsten $E1, E2, E3, ...$ in een kansexperiment\n",
    "- een event $E = \\{E1, E2, ...\\}$ bevat alle mogelijke uitkomsten $E1, E2, ...$ die onder de benoemde gebeurtenis vallen"
   ]
  },
  {
   "cell_type": "markdown",
   "metadata": {
    "slideshow": {
     "slide_type": "fragment"
    }
   },
   "source": [
    "Bijvoorbeeld:  \n",
    "We trekken, zonder terugleggen, blind 3 knikkers uit een vaas met 10 witte en 10 zwarte knikkers.  \n",
    "Voor de sample space $S$ geldt dan $S = \\{WWW, WWZ, WZW, ZWW, WZZ, ZWZ, ZZW, ZZZ\\}$  \n",
    "Een mogelijk event $E$ zou kunnen zijn: we trekken minstens twee zwarte knikkers. Dan geldt $E = \\{WZZ, ZWZ, ZZW, ZZZ\\}$."
   ]
  },
  {
   "cell_type": "markdown",
   "metadata": {
    "slideshow": {
     "slide_type": "subslide"
    }
   },
   "source": [
    "## Booleaanse algebra - verzamelingenleer (2)\n",
    "\n",
    "- de kans dat de event optreedt, wordt genoteerd als $P(E) = 0.5$\n",
    "- van een event $E$ kunnen we nu zeggen:  \n",
    "ofwel de event *treedt op*, ofwel de event *treedt niet op*,  \n",
    "andere uitkomsten zijn niet mogelijk\n",
    "- omdat events gedefinieerd zijn als verzamelingen,  \n",
    "kunnen we de operatoren uit de verzamelingenleer gebruiken om events te combineren"
   ]
  },
  {
   "cell_type": "markdown",
   "metadata": {
    "slideshow": {
     "slide_type": "fragment"
    }
   },
   "source": [
    "Bijvoorbeeld:  \n",
    "Gegeven twee events, $A$ en $B$,  \n",
    "kunnen we het *niet* optreden van event $A$ noteren als $\\neg{A}$ (ook wel \\overline{A}),  \n",
    "het optreden van event $A$ of $B$ als $A \\cup B$,  \n",
    "het optreden van zowel event $A$ als $B$ als $A \\cap B$"
   ]
  },
  {
   "cell_type": "markdown",
   "metadata": {
    "slideshow": {
     "slide_type": "slide"
    }
   },
   "source": [
    "## Booleaanse algebra (1)\n",
    "\n",
    "- de notatie in verzamelingenleer is gerelateerd aan de booleaanse algebra\n",
    "- een booleaanse variabele $A$ beschrijft het waarheidsgehalte van een bewering en  \n",
    "heeft twee mogelijke waarden: onwaar of waar  \n",
    "(vergelijk: ofwel een event treedt op, ofwel een event treedt niet op)\n",
    "\n",
    "Bijvoorbeeld:  \n",
    "De variabele $A$ beschrijft het waarheidsgehalte van de bewering \"Deze slide bevat 123 karakters.\"  \n",
    "De bewering kan onwaar zijn, $A = 0$, of waar zijn, $A = 1$."
   ]
  },
  {
   "cell_type": "markdown",
   "metadata": {
    "slideshow": {
     "slide_type": "subslide"
    }
   },
   "source": [
    "## Booleaanse algebra (2)\n",
    "\n",
    "- booleaanse variabelen kunnen worden gecombineerd met de logische operatoren  \n",
    "or ($A \\lor B$), and ($A \\land B$) en not ($\\neg{A}$).\n",
    "- van deze combinaties, of berekeningen, kunnen we waarheidstabellen maken  \n",
    "ten einde het waarheidsgehalte van de totale expressie vast te stellen:\n",
    "\n",
    "$A$ | $B$ | $A\\ or\\ B$ | $A\\ and\\ B$ | $\\neg{A}$\n",
    ":-: | :-: | :-: | :-: | :-:\n",
    "False | False | False | False | True \n",
    "False | True  | True  | False | True \n",
    "True  | False | True  | False | False\n",
    "True  | True  | True  | True  | False"
   ]
  },
  {
   "cell_type": "markdown",
   "metadata": {
    "slideshow": {
     "slide_type": "subslide"
    }
   },
   "source": [
    "### Opdracht 3\n",
    "\n",
    "- maak nu zelf een waarheidstabel voor de expressie $(\\neg{A}) \\lor B$\n",
    "- en voor de expressie $(A \\lor B) \\land \\neg{(A \\land B)}$"
   ]
  },
  {
   "cell_type": "markdown",
   "metadata": {
    "slideshow": {
     "slide_type": "slide"
    }
   },
   "source": [
    "## Python en booleaanse algebra\n",
    "\n",
    "- de waarheidstabellen kunnen we natuurlijk uit laten rekenen door de computer\n",
    "- immers, Python heeft een data type *bool*  \n",
    "en operatoren om expressies te combineren: or, and en not"
   ]
  },
  {
   "cell_type": "code",
   "execution_count": 34,
   "metadata": {
    "collapsed": false,
    "slideshow": {
     "slide_type": "fragment"
    }
   },
   "outputs": [
    {
     "name": "stdout",
     "output_type": "stream",
     "text": [
      "False False False False True\n",
      "False True True False True\n",
      "True False True False False\n",
      "True True True True False\n"
     ]
    }
   ],
   "source": [
    "for A in [False, True]:\n",
    "    for B in [False, True]:\n",
    "        print(A, B, A or B, A and B, not A)"
   ]
  },
  {
   "cell_type": "markdown",
   "metadata": {
    "slideshow": {
     "slide_type": "fragment"
    }
   },
   "source": [
    "- we zouden de tabel iets mooier uit kunnen lijnen,  \n",
    "maar dat komt nog wel"
   ]
  },
  {
   "cell_type": "markdown",
   "metadata": {
    "slideshow": {
     "slide_type": "slide"
    }
   },
   "source": [
    "### Opdracht 4\n",
    "\n",
    "- laat Python de waarheidstabel voor de expressie $(\\neg{A}) \\lor B$ uitrekenen\n",
    "- en voor de expressie $(A \\lor B) \\land \\neg{(A \\land B)}$"
   ]
  },
  {
   "cell_type": "code",
   "execution_count": 33,
   "metadata": {
    "collapsed": false,
    "slideshow": {
     "slide_type": "subslide"
    }
   },
   "outputs": [
    {
     "name": "stdout",
     "output_type": "stream",
     "text": [
      "(not A) or B:\n",
      "False False True\n",
      "False True True\n",
      "True False False\n",
      "True True True\n",
      "\n",
      "(A or B) and not(A and B):\n",
      "False False False\n",
      "False True True\n",
      "True False True\n",
      "True True False\n"
     ]
    }
   ],
   "source": [
    "print(\"(not A) or B:\")\n",
    "for A in [False, True]:\n",
    "    for B in [False, True]:\n",
    "        print(A, B, (not A) or B)\n",
    "\n",
    "print()\n",
    "print(\"(A or B) and not(A and B):\")\n",
    "for A in [False, True]:\n",
    "    for B in [False, True]:\n",
    "        print(A, B, (A or B) and not(A and B))"
   ]
  },
  {
   "cell_type": "markdown",
   "metadata": {
    "slideshow": {
     "slide_type": "slide"
    }
   },
   "source": [
    "## Huiswerkopgaven\n",
    "\n",
    "1. Schrijf een Python programma dat de waarheidstabel van de volgende expressie produceert:  \n",
    "$\\neg{(A \\lor B)}$ (Quine's Dagger)  \n",
    "<br/>\n",
    "2. De expressies uit opdracht 3 en 4 (in de slides) hebben een eigen naam,  \n",
    "$(\\neg{A}) \\lor B$ wordt ook wel *implicatie* genoemd en genoteerd als $A \\implies B$,  \n",
    "$(A \\lor B) \\land \\neg{(A \\land B)}$ wordt ook wel *exclusieve of* (of *xor*) genoemd en genoteerd als $A \\oplus B$.  \n",
    "<br/>De operator $\\Leftrightarrow$ wordt *equivalentie* (gelijkheid) genoemd.  \n",
    "De expressie $A \\Leftrightarrow B$ levert *alleen* True op, wanneer de waarde van $A$ gelijk is aan die van $B$.  \n",
    "Bedenk een expressie in $A$ en $B$ met behulp van de operatoren *or*, *and* en *not* die precies het resultaat van de operator *equivalentie* oplevert en controleer je expressie met een Python programma.  \n",
    "<table width=\"50%\">\n",
    "  <tr><th>$A$</th><th>$B$</th><th>$A \\Leftrightarrow B$</th></tr>\n",
    "  <tr><td>False</td><td>False</td><td>True</td></tr>\n",
    "  <tr><td>False</td><td>True</td><td>False</td></tr>\n",
    "  <tr><td>True</td><td>False</td><td>False</td></tr>\n",
    "  <tr><td>True</td><td>True</td><td>True</td></tr>\n",
    "</table>\n",
    "<br/><br/>\n",
    "3. strikt genomen zijn deze extra operatoren niet nodig, want je kunt ze namaken met *or*, *and* en *not*.  \n",
    "Eigenlijk kun je zelfs rondkomen met alleen *or* en *not* !  \n",
    "Bedenk een combinatie van *or* en *not* waarbij de waarheidstabel hetzelfde is als die van *and*. Controleer je expressie met een Python programma.   \n",
    "<table width=\"50%\">\n",
    "  <tr><th>$A$</th><th>$B$</th><th>$A \\land B$</th></tr>\n",
    "  <tr><td>False</td><td>False</td><td>False</td></tr>\n",
    "  <tr><td>False</td><td>True</td><td>False</td></tr>\n",
    "  <tr><td>True</td><td>False</td><td>False</td></tr>\n",
    "  <tr><td>True</td><td>True</td><td>True</td></tr>\n",
    "</table>\n",
    "<br/><br/>\n",
    "4. Een *tautologie* is een expressie die altijd *waar* oplevert, ongeacht de invulling van de variabelen.  \n",
    "De uitdrukking $A \\lor \\neg{A}$ is een voorbeeld van een tautologie.  \n",
    "Schrijf Python programma's om te bepalen of de onderstaande uitdrukkingen tautologieën zijn.  \n",
    "*Let op: de implicatie $A \\implies B$ kun je uitrekenen, als in opgave 2 beschreven, met $(\\neg{A}) \\lor B$*  \n",
    "    1. $(A \\lor B) \\implies (A \\lor B)$  \n",
    "    2. $(A \\lor B) \\implies (A \\land B)$  \n",
    "    3. $(\\neg{A} \\implies B) \\land (\\neg{A} \\implies \\neg{B})$"
   ]
  },
  {
   "cell_type": "code",
   "execution_count": null,
   "metadata": {
    "collapsed": true
   },
   "outputs": [],
   "source": []
  }
 ],
 "metadata": {
  "celltoolbar": "Slideshow",
  "kernelspec": {
   "display_name": "Python 3",
   "language": "python",
   "name": "python3"
  },
  "language_info": {
   "codemirror_mode": {
    "name": "ipython",
    "version": 3
   },
   "file_extension": ".py",
   "mimetype": "text/x-python",
   "name": "python",
   "nbconvert_exporter": "python",
   "pygments_lexer": "ipython3",
   "version": "3.4.3"
  }
 },
 "nbformat": 4,
 "nbformat_minor": 0
}
