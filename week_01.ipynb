{
 "cells": [
  {
   "cell_type": "markdown",
   "metadata": {
    "slideshow": {
     "slide_type": "slide"
    }
   },
   "source": [
    "# Data Analysis - Programming - 1\n",
    "## Week 1"
   ]
  },
  {
   "cell_type": "markdown",
   "metadata": {
    "slideshow": {
     "slide_type": "subslide"
    }
   },
   "source": [
    "## Onderwerpen week 1:\n",
    "\n",
    "- installatie Python distributie Anaconda (Python 3.5)\n",
    "- gebruik Jupyter (voorheen: Ipython Notebook)\n",
    "- print() functie\n",
    "- events in kansrekening en booleaanse algebra"
   ]
  },
  {
   "cell_type": "markdown",
   "metadata": {
    "collapsed": true,
    "slideshow": {
     "slide_type": "slide"
    }
   },
   "source": [
    "## Python 3 - Anaconda\n",
    "\n",
    "- in periode 1 heb je Python geprogrammeerd in een webbrowser\n",
    "- vanaf deze periode gebruiken we Python 3 (3.4, 3.5, als het maar begint met 3)\n",
    "- voor een eenvoudige installatie van Python en veelgebruikte \n",
    "  bijbehorende bibliotheken maken we gebruik van [Anaconda](http://docs.continuum.io/anaconda/index)"
   ]
  },
  {
   "cell_type": "markdown",
   "metadata": {
    "slideshow": {
     "slide_type": "fragment"
    }
   },
   "source": [
    "### Installatie\n",
    "- bepaal welk OS je gebruikt (Microsoft Windows, Apple OS-X, Linux)\n",
    "- bepaal welke versie van het OS je gebruikt (32-bit of 64-bit),  \n",
    "gebruik voor Windows eventueel [deze instructie](http://windows.microsoft.com/nl-NL/windows/which-operating-system) om dit te achterhalen,  \n",
    "OS-X is tegenwoordig altijd 64-bit en  \n",
    "als je Linux gebruikt, weet je het hopelijk zelf wel\n",
    "- zoek de juiste Anaconda installer en [download](https://www.continuum.io/downloads) deze\n",
    "- installeer Anaconda door de gedownloade installer te runnen,  \n",
    "gebruik daarbij de standaard instellingen"
   ]
  },
  {
   "cell_type": "markdown",
   "metadata": {
    "slideshow": {
     "slide_type": "slide"
    }
   },
   "source": [
    "## Met Python werken\n",
    "\n",
    "- Python programma's zijn tekstbestanden,  \n",
    "meestal hebben ze de [bestandsextensie](https://en.wikipedia.org/wiki/Filename_extension) .py (vergelijk .docx, .xlsx, .pdf)\n",
    "- voor het uitvoeren (runnen) worden de tekstbestanden eenmalig door de computer vertaald naar bytecode  \n",
    "waarna de instructies in bytecode worden uitgevoerd door een virtual machine\n",
    "- deze vertaling en executie wordt gedaan door een interpreter  \n",
    "die van oudsher vanaf de commandline wordt uitgevoerd"
   ]
  },
  {
   "cell_type": "markdown",
   "metadata": {
    "slideshow": {
     "slide_type": "fragment"
    }
   },
   "source": [
    "- een meer recente ontwikkeling is [Jupyter](http://jupyter.org/) (voorheen: IPython Notebook)\n",
    "- Jupyter is een programma dat je gebruikt in een webbrowser,  \n",
    "waarbij de programma's die schrijft 'live' worden uitgevoerd door een Python proces dat op de achtergrond draait\n",
    "- in Jupyter kun je programmacode (in Python, R of bijvoorbeeld Julia) schrijven en uitvoeren,  \n",
    "maar ook mixen met opgemaakte tekst (zoals deze slides), afbeeldingen en video\n",
    "- in plaats van volledige programma's schrijf je code in notebooks die direct worden uitgevoerd"
   ]
  },
  {
   "cell_type": "code",
   "execution_count": null,
   "metadata": {
    "collapsed": true
   },
   "outputs": [],
   "source": []
  }
 ],
 "metadata": {
  "celltoolbar": "Slideshow",
  "kernelspec": {
   "display_name": "Python 3",
   "language": "python",
   "name": "python3"
  },
  "language_info": {
   "codemirror_mode": {
    "name": "ipython",
    "version": 3
   },
   "file_extension": ".py",
   "mimetype": "text/x-python",
   "name": "python",
   "nbconvert_exporter": "python",
   "pygments_lexer": "ipython3",
   "version": "3.4.3"
  }
 },
 "nbformat": 4,
 "nbformat_minor": 0
}
