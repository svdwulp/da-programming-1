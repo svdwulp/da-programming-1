{
 "cells": [
  {
   "cell_type": "markdown",
   "metadata": {},
   "source": [
    "### Opmerking bij de onderstaande oefeningen\n",
    "\n",
    "Probeer bij het maken van de onderstaande oefeningen programma's te schrijven die generiek zijn. Dat wil zeggen, die niet alleen het juiste antwoord geven voor het bij de opgave gegeven voorbeeld, maar het juiste antwoord in alle mogelijke, op het voorbeeld gelijkende, gevallen.  \n",
    "Dus het is beter als je programma bij 1b werkt niet alleen voor de gegeven list `A = [[1, 2, 3], [4, 5, 6], [], [7, 8], [9]]`, maar ook voor andere lists die er ongeveer hetzelfde uitzien."
   ]
  },
  {
   "cell_type": "markdown",
   "metadata": {},
   "source": [
    "### Moeilijkheidsgraad\n",
    "\n",
    "Omdat sommige van de onderstaande oefeningen wat lastiger zijn dan andere, is een indicatie van de moeilijkheidsgraad toegevoegd.\n",
    "\n",
    "De volgende niveau's worden daarbij onderscheiden:\n",
    "- <img src=\"images/stars_1.png\" alt=\"1 star\" style=\"display: inline\" /> oefening van behandelde onderwerpen\n",
    "- <img src=\"images/stars_2.png\" alt=\"2 stars\" style=\"display: inline\" /> verdieping van behandelde onderwerpen\n",
    "- <img src=\"images/stars_3.png\" alt=\"3 stars\" style=\"display: inline\" /> uitdaging, stof tot nadenken"
   ]
  },
  {
   "cell_type": "markdown",
   "metadata": {},
   "source": [
    "### Oefening 1\n",
    "\n",
    "Schrijf een programma om ... \n",
    "\n",
    "<span>a.</span> de verwachtingswaarde van het totaal aantal ogen te bepalen als je gooit een 6-zijdige dobbelsteen. <img src=\"images/stars_1.png\" alt=\"1 star\" style=\"display: inline; margin-top: -5px\" /> \n",
    "\n",
    "<span>b.</span> de verwachtingswaarde van het totaal aantal ogen te bepalen als je gooit met drie 6-zijdige dobbelstenen. <img src=\"images/stars_1.png\" alt=\"1 star\" style=\"display: inline; margin-top: -5px\" />\n",
    "\n",
    "<span>c.</span> de verwachtingswaarde van het totaal aantal ogen te bepalen als je gooit met vier dobbelstenen: een 5-zijdige, een 8-zijdige, een 10-zijdige en een 12-zijdige? <img src=\"images/stars_1.png\" alt=\"1 star\" style=\"display: inline; margin-top: -5px\" />\n",
    "\n",
    "<span>d.</span> de verwachtingswaarde van het totaal aantal ogen te bepalen als je gooit met een opgegeven aantal dobbelstenen met een opgegeven aantal zijden.  <img src=\"images/stars_3.png\" alt=\"3 star\" style=\"display: inline; margin-top: -5px\" />\n",
    "```python\n",
    "dice = [5, 8, 10, 12]  # als oefening 1c. of:\n",
    "dice = [6, 6, 8, 10, 12]\n",
    "```"
   ]
  },
  {
   "cell_type": "markdown",
   "metadata": {},
   "source": [
    "### Oefening 2\n",
    "\n",
    "Schrijf een programma dat ...  \n",
    "\n",
    "<span>a.</span> het aantal geneste lists van een list geeft. <img src=\"images/stars_1.png\" alt=\"1 star\" style=\"display: inline; margin-top: -5px\" />\n",
    "```python\n",
    "A = [[1, 2, 3], [4, 5, 6], [], 7, 8, [9]]\n",
    "# bepaal aantal geneste lists in A (=4)\n",
    "```\n",
    "\n",
    "<span>b.</span> het totaal aantal elementen van een list plus het aantal elementen van alle geneste lists in een list geeft. <img src=\"images/stars_2.png\" alt=\"2 star\" style=\"display: inline; margin-top: -5px\" />\n",
    "```python\n",
    "A = [[1, 2, 3], [4, 5, 6], [], 7, 8, [9]]\n",
    "# bepaal het totaal aantal elementen in A (incl. geneste lists) (=9)\n",
    "```\n",
    "\n",
    "<span>c.</span> de som van alle elementen in een list, inclusief de elementen in alle geneste lists. <img src=\"images/stars_2.png\" alt=\"2 star\" style=\"display: inline; margin-top: -5px\" />\n",
    "```python\n",
    "A = [[1, 2, 3], [4, 5, 6], [], 7, 8, [9]]\n",
    "# bepaal de som van alle elementen van in A geneste lists (=45)\n",
    "```"
   ]
  },
  {
   "cell_type": "markdown",
   "metadata": {},
   "source": [
    "### Oefening 3\n",
    "\n",
    "Schrijf een programma dat ...  \n",
    "\n",
    "<span>a.<span> een platte list maakt met alle elementen van een list, inclusief de elementen in geneste lists. <img src=\"images/stars_2.png\" alt=\"2 star\" style=\"display: inline; margin-top: -5px\" />\n",
    "```python\n",
    "A = [[1, 2, 3], 4, 5, [6], [7, 8], 9]\n",
    "# maak een 'platte' list met de elementen van A\n",
    "# (= [1, 2, 3, 4, 5, 6, 7, 8, 9])\n",
    "```\n",
    "\n",
    "<span>b.</span> alle opeenvolgende duplicaten van elementen in een list verwijdert. <img src=\"images/stars_1.png\" alt=\"1 star\" style=\"display: inline; margin-top: -5px\" />\n",
    "```python\n",
    "A = [1, 1, 1, 1, 2, 2, 3, 4, 4, 4, 1, 1]\n",
    "# verwijder opeenvolgende duplicaten van elementen in A\n",
    "# (= [1, 2, 3, 4, 1])\n",
    "```\n",
    "\n",
    "<span>c.</span> een run-length encoded versie van een list maakt. Daarbij maak je een nieuwe list, waarin alle opeenvolgende duplicaten van de elementen van de  list zijn vervangen door een tuple met daarin het element en het aantal duplicaten. <img src=\"images/stars_2.png\" alt=\"2 star\" style=\"display: inline; margin-top: -5px\" />\n",
    "```python\n",
    "A = [1, 1, 1, 1, 2, 2, 3, 4, 4, 4, 1, 1]\n",
    "# maak een run-length encoded versie van A\n",
    "# (= [(1, 4), (2, 2), (3, 1), (4, 3), (1, 2)])\n",
    "```\n",
    "\n",
    "<span>d.</span> een run-length encoded list (zie 2c.) uitpakt naar een platte list. <img src=\"images/stars_2.png\" alt=\"2 star\" style=\"display: inline; margin-top: -5px\" />\n",
    "```python\n",
    "A = [(1, 4), (2, 2), (3, 1), (4, 3), (1, 2)]\n",
    "# pak de run-length encoded list A uit\n",
    "# (= [1, 1, 1, 1, 2, 2, 3, 4, 4, 4, 1, 1])\n",
    "```\n"
   ]
  },
  {
   "cell_type": "markdown",
   "metadata": {},
   "source": [
    "### Oefening 4\n",
    "\n",
    "Schrijf een programma dat ...  \n",
    "\n",
    "<span>a.</span> alle elementen in een list dupliceert in dezelfde list, dus zonder een nieuwe list te maken. <img src=\"images/stars_1.png\" alt=\"1 star\" style=\"display: inline; margin-top: -5px\" />\n",
    "```python\n",
    "A = [1, 2, 3, 4]\n",
    "# dupliceer de elementen in A (zonder een nieuwe list te maken)\n",
    "# (A = [1, 1, 2, 2, 3, 3, 4, 4])\n",
    "```\n",
    "\n",
    "<span>b.</span> de elementen van een list een opgegeven aantal plaatsen naar links 'draait'. Elementen die er aan de linkerzijde af zouden vallen, komen rechts terug in de list. <img src=\"images/stars_1.png\" alt=\"1 star\" style=\"display: inline; margin-top: -5px\" />\n",
    "```python\n",
    "A = list(\"abcdefgh\")\n",
    "positions = 3\n",
    "# draai de list A over positions elementen naar links\n",
    "# (= [\"d\", \"e\", \"f\", \"g\", \"h\", \"a\", \"b\", \"c\"])\n",
    "```"
   ]
  },
  {
   "cell_type": "markdown",
   "metadata": {},
   "source": [
    "### Oefening 5\n",
    "\n",
    "Schrijf een programma dat ...  \n",
    "\n",
    "<span>a.</span> een opgegeven aantal, toevallig gekozen elementen uit een list trekt (lotto). <img src=\"images/stars_1.png\" alt=\"1 star\" style=\"display: inline; margin-top: -5px\" />\n",
    "```python\n",
    "A = [1, 3, 5, 7, 8, 9]\n",
    "count = 3\n",
    "# trek count toevallig gekozen elementen uit A\n",
    "# (= [7, 3, 5] of [1, 8, 3] etc.)\n",
    "```"
   ]
  },
  {
   "cell_type": "markdown",
   "metadata": {},
   "source": [
    "### Oefening 6\n",
    "\n",
    "<span>a.</span> Schrijf een programma dat twee matrices bij elkaar optelt. <img src=\"images/stars_2.png\" alt=\"2 star\" style=\"display: inline; margin-top: -5px\" />\n",
    "```python\n",
    "A = [[1, 2, 3], [4, 5, 6]]\n",
    "B = [[9, 8, 7], [6, 5, 4]]\n",
    "# bepaal C = A + B\n",
    "```\n",
    "\n",
    "<span>b.</span> Schrijf een programma dat twee matrices vermenigvuldigt. <img src=\"images/stars_3.png\" alt=\"3 star\" style=\"display: inline; margin-top: -5px\" />\n",
    "```python\n",
    "A = [[1, 2, 3], [4, 5, 6]]\n",
    "B = [[9, 8], [7, 6], [5, 4]]\n",
    "# bepaal C = A x B\n",
    "```"
   ]
  },
  {
   "cell_type": "markdown",
   "metadata": {},
   "source": [
    "### Oefening 7\n",
    "\n",
    "Als we een matrix niet met een geneste list zouden modelleren, \n",
    "maar met een platte list, hoe zou je dan een element van de matrix \n",
    "kunnen aanwijzen?  \n",
    "De afmeting van de matrix is bekend.\n",
    "\n",
    "Bijvoorbeeld:\n",
    "$$\n",
    "A = \\begin{bmatrix}\n",
    "    1 & 2 & 3 \\\\\n",
    "    4 & 5 & 6 \\\\\n",
    "    7 & 8 & 9 \\end{bmatrix}\n",
    "$$\n",
    "Hoe vind ik nu $A_{r,c}$ ? <img src=\"images/stars_2.png\" alt=\"2 star\" style=\"display: inline; margin-top: -5px\" />\n",
    "\n",
    "In Python:\n",
    "```python\n",
    "A = [1, 2, 3, 4, 5, 6, 7, 8, 9]\n",
    "rows, cols = (3, 3)  # matrix dimensions\n",
    "r, c = (1, 2)  # 0-based row and column index\n",
    "# hoe vind ik het element op A(r, c)?\n",
    "```"
   ]
  },
  {
   "cell_type": "markdown",
   "metadata": {},
   "source": [
    "### Oefening 8\n",
    "\n",
    "In het 8-koniginnen-probleem probeer je zoveel mogelijk koniginnen op een schaakbord te plaatsen. De koniginnen mogen niet de mogelijkheid hebben \n",
    "elkaar te slaan.  \n",
    "Een konigin mag op het schaakbord zowel horizontaal, verticaal als diagonaal lopen.\n",
    "\n",
    "Een voorbeeld van een geldige oplossing:  \n",
    "![Een oplossing van het 8-koniginnen-probleem](images/an_eight_queens_solution.png)\n",
    "\n",
    "<span>a.</span> Op hoeveel mogelijke manieren kun je de 8 koniginnen op de vakjes van het schaakbord plaatsen als je geen rekening hoeft te houden met het slaan? <img src=\"images/stars_1.png\" alt=\"1 star\" style=\"display: inline; margin-top: -5px\" />\n",
    "\n",
    "<span>b.</span> Schrijf een Python programma dat een geldige oplossing van het probleem zoekt en vindt. <img src=\"images/stars_3.png\" alt=\"3 star\" style=\"display: inline; margin-top: -5px\" />"
   ]
  },
  {
   "cell_type": "markdown",
   "metadata": {},
   "source": [
    "### Oefening 9\n",
    "\n",
    "Schrijf een programma dat ...  \n",
    "\n",
    "<span>a.<span> de geneste lists in een list sorteert op lengte van de \n",
    "geneste list. <img src=\"images/stars_3.png\" alt=\"3 star\" style=\"display: inline; margin-top: -5px\" />\n",
    "```python\n",
    "A = [\n",
    "    [\"a\", \"b\", \"c\"], [\"d\", \"e\"],\n",
    "    [\"f\", \"g\", \"h\"], [\"d\", \"e\"],\n",
    "    [\"i\", \"j\", \"k\", \"l\"], [\"m\", \"n\"],\n",
    "    [\"o\"]\n",
    "]\n",
    "# maak een nieuwe lijst, waarin de elementen van A\n",
    "# gesorteerd zijn op lengte van de list\n",
    "# (= [[\"o\"], [\"d\", \"e\"], [\"d\", \"e\"], [\"m\", \"n\"],\n",
    "#     [\"a\", \"b\", \"c\"], [\"f\", \"g\", \"h\"], [\"i\", \"j\", \"k\", \"l\"]])\n",
    "```"
   ]
  },
  {
   "cell_type": "code",
   "execution_count": null,
   "metadata": {
    "collapsed": true
   },
   "outputs": [],
   "source": []
  }
 ],
 "metadata": {
  "kernelspec": {
   "display_name": "Python 3",
   "language": "python",
   "name": "python3"
  },
  "language_info": {
   "codemirror_mode": {
    "name": "ipython",
    "version": 3
   },
   "file_extension": ".py",
   "mimetype": "text/x-python",
   "name": "python",
   "nbconvert_exporter": "python",
   "pygments_lexer": "ipython3",
   "version": "3.5.1"
  }
 },
 "nbformat": 4,
 "nbformat_minor": 0
}
