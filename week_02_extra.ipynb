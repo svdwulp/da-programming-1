{
 "cells": [
  {
   "cell_type": "code",
   "execution_count": 37,
   "metadata": {
    "collapsed": true
   },
   "outputs": [],
   "source": [
    "## Python - veelgebruikte string functies\n",
    "\n",
    "# Type str. gevolgd door <Tab> om alle functies te zien\n",
    "# die je toe kunt passen op een string.\n",
    "# Het commando help(str) geeft ook uitleg over alle string functies."
   ]
  },
  {
   "cell_type": "code",
   "execution_count": 23,
   "metadata": {
    "collapsed": false
   },
   "outputs": [
    {
     "name": "stdout",
     "output_type": "stream",
     "text": [
      "Nobody expects the Spanish Inquisition!\n",
      "Lengte: 39\n",
      "Begint met substring: False\n",
      "Eindigt met substring: True\n",
      "Substring tellen: 2\n",
      "Locatie substring: 7\n",
      "Bestaat uit cijfers: False\n"
     ]
    }
   ],
   "source": [
    "## Informatie en zoeken\n",
    "zin = \"Nobody expects the Spanish Inquisition!\"\n",
    "print(zin)\n",
    "print(\"Lengte: {}\".format( len(zin) ))\n",
    "print(\"Begint met substring: {}\".format( zin.startswith(\"No bloody\") ))\n",
    "print(\"Eindigt met substring: {}\".format( zin.endswith(\"sition!\") ))\n",
    "print(\"Substring tellen: {}\".format( zin.count(\"is\") ))\n",
    "print(\"Locatie substring: {}\".format( zin.find(\"expect\") ))\n",
    "\n",
    "print(\"Bestaat uit cijfers: {}\".format( zin.isdigit() ))\n",
    "# ook: isalnum, isalpha, isdecimal, islower, ..."
   ]
  },
  {
   "cell_type": "code",
   "execution_count": 35,
   "metadata": {
    "collapsed": false
   },
   "outputs": [
    {
     "name": "stdout",
     "output_type": "stream",
     "text": [
      "Vervangen substring: Nobody expects the Span*IS*h Inqu*IS*ition!\n",
      "Links uitlijnen : abc---------\n",
      "Centreren       : ----abc-----\n",
      "Rechts uitlijnen: ---------abc\n"
     ]
    }
   ],
   "source": [
    "## Bewerken\n",
    "# let op: strings zijn 'immutable' (onveranderlijk)\n",
    "# dus alle bewerkingsfuncties leveren een *nieuwe* string,\n",
    "# de string (variabele) waarop de functie wordt toegepast verandert niet!\n",
    "zin = \"Nobody expects the Spanish Inquisition!\"\n",
    "print(\"Vervangen substring: {}\".format( zin.replace(\"is\", \"*IS*\") ))\n",
    "print(\"Links uitlijnen : {}\".format( \"abc\".ljust(12, \"-\") ))\n",
    "print(\"Centreren       : {}\".format( \"abc\".center(12, \"-\") ))\n",
    "print(\"Rechts uitlijnen: {}\".format( \"abc\".rjust(12, \"-\") ))"
   ]
  },
  {
   "cell_type": "code",
   "execution_count": 36,
   "metadata": {
    "collapsed": false
   },
   "outputs": [
    {
     "name": "stdout",
     "output_type": "stream",
     "text": [
      "lower: nobody expects the spanish inquisition!\n",
      "upper: NOBODY EXPECTS THE SPANISH INQUISITION!\n",
      "capitalize: Nobody expects the spanish inquisition!\n",
      "title: Nobody Expects The Spanish Inquisition!\n"
     ]
    }
   ],
   "source": [
    "## Hoofd- en kleine letters\n",
    "zin = \"Nobody expects the Spanish Inquisition!\"\n",
    "print(\"lower: {}\".format(zin.lower()))\n",
    "print(\"upper: {}\".format(zin.upper()))\n",
    "print(\"capitalize: {}\".format(zin.capitalize()))\n",
    "print(\"title: {}\".format(zin.title()))"
   ]
  },
  {
   "cell_type": "code",
   "execution_count": null,
   "metadata": {
    "collapsed": true
   },
   "outputs": [],
   "source": []
  }
 ],
 "metadata": {
  "kernelspec": {
   "display_name": "Python 3",
   "language": "python",
   "name": "python3"
  },
  "language_info": {
   "codemirror_mode": {
    "name": "ipython",
    "version": 3
   },
   "file_extension": ".py",
   "mimetype": "text/x-python",
   "name": "python",
   "nbconvert_exporter": "python",
   "pygments_lexer": "ipython3",
   "version": "3.4.3"
  }
 },
 "nbformat": 4,
 "nbformat_minor": 0
}
