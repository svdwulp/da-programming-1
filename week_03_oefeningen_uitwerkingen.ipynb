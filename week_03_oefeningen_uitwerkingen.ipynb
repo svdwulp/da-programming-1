{
 "cells": [
  {
   "cell_type": "markdown",
   "metadata": {},
   "source": [
    "## Opgave 1\n",
    "\n",
    "1. Maak een lege lijst aan en noem deze lijst `getallen_a`.  \n",
    "2. Vul deze lijst via een for loop met de getallen 2, 4, 6 , 8 en 10  \n",
    "3. Check of de lijst er zo uitziet als verwacht, hoeveel elementen bevat je lijst? Welk getal staat op plek 0? En op plek 3? En op plek -1?  \n",
    "4. Voeg het getal 14.0 toe achter aan je lijst, en het getal 7 op plek 2.  \n",
    "5. Maak een lijst `getallen_b` aan: [3.14, 8, 0] en vervang `getallen_a` door de samenvoeging van `getallen_a` en `getallen_b`  \n",
    "6. In `getallen_a`: op welke plek staat het getal 3.14? En het getal 8? Hoe vaak komt het getal 8 voor in de lijst? Bevat de lijst het getal 4? Wat zijn de minimale en maximale waarde die in de lijst voorkomen?  \n",
    "7. Verwijder het getal op plek 4.  \n",
    "8. Sorteer de lijst en geef hem ook eens van achter naar voren weer.  \n"
   ]
  },
  {
   "cell_type": "code",
   "execution_count": 6,
   "metadata": {
    "collapsed": false
   },
   "outputs": [
    {
     "name": "stdout",
     "output_type": "stream",
     "text": [
      "Lijst getallen_a: [2, 4, 6, 8, 10]\n",
      "Lengte of aantal elementen: 5\n",
      "Getal op plek 0: 2\n",
      "Getal op plek 3: 8\n",
      "Getal op plek -1: 10\n",
      "Lijst getallen_a: [2, 4, 7, 6, 8, 10, 14.0, 3.14, 8, 0]\n",
      "Index van 3.14: 7\n",
      "Aantal van 8: 2\n",
      "Is 4 element van de lijst: True\n",
      "Minimum van lijst: 0\n",
      "Maximum van lijst: 0\n",
      "Lijst getallen_a: [2, 4, 7, 6, 10, 14.0, 3.14, 8, 0]\n",
      "Lijst getallen_a: [0, 2, 3.14, 4, 6, 7, 8, 10, 14.0]\n",
      "Lijst getallen_a: [14.0, 10, 8, 7, 6, 4, 3.14, 2, 0]\n"
     ]
    }
   ],
   "source": [
    "# 1.1\n",
    "getallen_a = []\n",
    "# 1.2\n",
    "for i in range(2, 11, 2):\n",
    "    getallen_a.append(i)\n",
    "# 1.3\n",
    "print(\"Lijst getallen_a:\", getallen_a)\n",
    "print(\"Lengte of aantal elementen:\", len(getallen_a))\n",
    "print(\"Getal op plek 0:\", getallen_a[0])\n",
    "print(\"Getal op plek 3:\", getallen_a[3])\n",
    "print(\"Getal op plek -1:\", getallen_a[-1])\n",
    "# 1.4\n",
    "getallen_a.append(14.0)\n",
    "getallen_a.insert(2, 7)\n",
    "# 1.5\n",
    "getallen_b = [3.14, 8, 0]\n",
    "getallen_a = getallen_a + getallen_b  # ook: getallen_a += getallen_b\n",
    "print(\"Lijst getallen_a:\", getallen_a)\n",
    "# 1.6\n",
    "print(\"Index van 3.14:\", getallen_a.index(3.14))\n",
    "print(\"Aantal van 8:\", getallen_a.count(8))\n",
    "print(\"Is 4 element van de lijst:\", 4 in getallen_a)\n",
    "# of: print(\"Is 4 element van de lijst:\", getallen_a.count(4) > 0)\n",
    "print(\"Minimum van lijst:\", min(getallen_a))\n",
    "print(\"Maximum van lijst:\", min(getallen_b))\n",
    "# 1.7\n",
    "del getallen_a[4]\n",
    "print(\"Lijst getallen_a:\", getallen_a)\n",
    "# 1.8\n",
    "getallen_a.sort()\n",
    "print(\"Lijst getallen_a:\", getallen_a)\n",
    "getallen_a.reverse()\n",
    "print(\"Lijst getallen_a:\", getallen_a)"
   ]
  },
  {
   "cell_type": "markdown",
   "metadata": {},
   "source": [
    "## Opgave 2\n",
    "\n",
    "1. Schrijf een programma dat het aantal elementen (de lengte) van een list variable afdrukt naar het scherm zonder de `len()`-functie te gebruiken.\n",
    "2. Schrijf een programma dat alle elementen in een list vermenigvuldigt met een door de gebruiker opgegeven getal en de uitkomsten afdrukt.\n",
    "3. Schrijf een programma dat bepaalt of een door de gebruiker opgegeven getal een element is van een list. Gebruik daarbij niet de `in`-operator of de functies `index()` of `count()`.\n",
    "4. Schrijf een programma dat kan bepalen of twee lists (minstens) een gemeenschappelijk element hebben. Gebruik een geneste (dubbele) `for`-loop om dit te bepalen.\n",
    "5. Schrijf en programma dat een 'histogram' kan afdrukken voor een list van integers. Voor de list [4, 9, 7] bijvoorbeeld, zou het onderstaande afgedrukt moeten worden:  \n",
    "\n",
    "```\n",
    "****\n",
    "*********\n",
    "*******\n",
    "```"
   ]
  },
  {
   "cell_type": "code",
   "execution_count": 15,
   "metadata": {
    "collapsed": false
   },
   "outputs": [
    {
     "name": "stdout",
     "output_type": "stream",
     "text": [
      "Lengte van numbers: 4\n",
      "Geef de multiplier op:2.5\n",
      "5.0\n",
      "10.0\n",
      "15.0\n",
      "20.0\n",
      "Geef de multiplier op:2.4\n",
      "Producten: [4.8, 9.6, 14.399999999999999, 19.2]\n",
      "Welk geheel getal zoek je?4\n",
      "Het getal 4 zit in de lijst: False\n",
      "De lijsten hebben (minstens) een gemeenschappelijk element: False\n",
      "****\n",
      "*********\n",
      "*******\n"
     ]
    }
   ],
   "source": [
    "# 2.1\n",
    "numbers = [2, 4, 6, 8]\n",
    "length = 0\n",
    "for i in numbers:\n",
    "    length += 1\n",
    "print(\"Lengte van numbers:\", length)\n",
    "# 2.2\n",
    "numbers = range(2, 10, 2)\n",
    "multiplier = float(input(\"Geef de multiplier op:\"))\n",
    "for number in numbers:\n",
    "    print(number * multiplier)\n",
    "# of:\n",
    "numbers = list(range(2, 10, 2))\n",
    "multiplier = float(input(\"Geef de multiplier op:\"))\n",
    "for i in range(len(numbers)):\n",
    "    numbers[i] *= multiplier  # dit past de inhoud van de list aan!\n",
    "print(\"Producten:\", numbers)\n",
    "# 2.3\n",
    "numbers = [1, 3, 5, 7]\n",
    "print(\"Getallen:\", numbers)\n",
    "query = int(input(\"Welk geheel getal zoek je?\"))\n",
    "is_element = False\n",
    "for number in numbers:\n",
    "    if number == query:\n",
    "        is_element = True\n",
    "print(\"Het getal {} zit in de lijst: {}\".format(query, is_element))\n",
    "# 2.4\n",
    "numbers_a = [1, 3, 5, 7]\n",
    "numbers_b = [2, 4, 6, 8]\n",
    "has_common_elem = False\n",
    "for number_a in numbers_a:\n",
    "    for number_b in numbers_b:\n",
    "        if number_a == number_b:\n",
    "            has_common_elem = True\n",
    "print((\"De lijsten hebben (minstens) een \"\n",
    "       \"gemeenschappelijk element:\"), has_common_elem)\n",
    "# 2.5\n",
    "values = [4, 9, 7]\n",
    "for value in values:\n",
    "    print(\"*\" * value)"
   ]
  },
  {
   "cell_type": "markdown",
   "metadata": {},
   "source": [
    "## Opdracht 3\n",
    "\n",
    "Tijdens het college is (naive) Bayesian spam detection besproken. Er werden twee voorbeelden behandeld en in beide gevallen werd de kans op spam bepaald voor een bericht van één woord. Maar de meeste e-mails bestaan uit meer woorden.\n",
    "\n",
    "Wanneer we, helaas wat optimistisch, de aanname doen dat woorden in e-mails onafhankelijk van elkaar optreden, kunnen we met de behandelde vergelijking (Bayes' theorem) uitspraken doen over de kans dat een e-mail met meerdere woorden spam is.  \n",
    "  \n",
    "1. Gegeven de trainingsdata zoals gebruikt in het college, zie evt. hieronder, bereken met hand de kans op het bericht `M = \"rolex korting amsterdam\"` als je uitgaat van onderlinge onafhankelijkheid van de woorden in een bericht.  \n",
    "   - Spam berichten: `rolex replica korting`, `klik korting viagra`, `korting politiek krediet`  \n",
    "   - Ham berichten: `politiek bepaalt korting`, `lariekoek in politiek`, `klik politiek verslag`, `journalist bespeelt politiek`, `politiek amsterdam stagneert`  \n",
    "2. Schrijf een programma om voor berichten van meerdere woorden (minstens 1) de kans op spam uit te kunnen rekenen.  \n",
    "Je kunt een bericht eenvoudig in woorden splitsen in Python:  \n",
    "```python\n",
    "message = \"rolex korting amsterdam\"\n",
    "words = message.split()  # split maakt een list van de elementen\n",
    "                            # na het splitsen op whitespace\n",
    "```\n",
    "\n",
    "*Hint:* begin met uit uitdrukken van $P(M|Spam)$ als $P(W_1, W_2, W_3|Spam) = P(W_1|Spam) \\cdot P(W_2|Spam) \\cdot P(W_3|Spam)$ en evenzo voor $P(M|Ham)$."
   ]
  },
  {
   "cell_type": "markdown",
   "metadata": {},
   "source": [
    "### 3.1\n",
    "$$\n",
    "\\begin{align*}\n",
    "P(Spam|M) &= \\scriptsize{\\frac{P(M|Spam) \\cdot P(Spam)}\n",
    "  {P(M|Spam) \\cdot P(Spam) + P(M|Ham) \\cdot P(Ham)}} \\\\\n",
    "&= \\scriptsize{\\frac{P(W_1, W_2, W_3|Spam) \\cdot P(Spam)}\n",
    "  {P(W_1, W_2, W_3|Spam) \\cdot P(Spam) + P(W_1, W_2, W_3|Ham) \\cdot P(Ham)}} \\\\\n",
    "&= \\scriptsize{\\frac{P(W_1|Spam) \\cdot \\ldots \\cdot P(W_3|Spam) \\cdot P(Spam)}\n",
    "  {P(W_1|Spam) \\cdot \\ldots \\cdot P(W_3|Spam) \\cdot P(Spam) + P(W_1|Ham) \\cdot \\ldots \\cdot P(W_3|Ham) \\cdot P(Ham)}} \\\\\n",
    "&= \\scriptsize{\\frac{1/9 \\cdot 3/9 \\cdot 1 \\cdot 9/24}\n",
    "  {1/9 \\cdot 3/9 \\cdot 1 \\cdot 9/15 + 1 \\cdot 1/15 \\cdot 1/15 \\cdot 15/24}} \\\\\n",
    "&= \\scriptsize{\\frac{1/72}{1/72 + 1/360}} = \\scriptsize{\\frac{5}{6}}\n",
    "\\end{align*}\n",
    "$$"
   ]
  },
  {
   "cell_type": "code",
   "execution_count": 27,
   "metadata": {
    "collapsed": false
   },
   "outputs": [
    {
     "name": "stdout",
     "output_type": "stream",
     "text": [
      "P(M|Spam) = 0.8333\n"
     ]
    }
   ],
   "source": [
    "# 3.2\n",
    "spam = [\n",
    "    \"rolex\", \"replica\", \"korting\",\n",
    "    \"klik\", \"korting\", \"viagra\",\n",
    "    \"korting\", \"politiek\", \"krediet\",\n",
    "]\n",
    "ham = [\n",
    "    \"politiek\", \"bepaalt\", \"korting\",\n",
    "    \"lariekoek\", \"in\", \"politiek\",\n",
    "    \"klik\", \"politiek\", \"verslag\",\n",
    "    \"journalist\", \"bespeelt\", \"politiek\",\n",
    "    \"politiek\", \"amsterdam\", \"stagneert\",\n",
    "]\n",
    "\n",
    "message = \"rolex korting amsterdam\"\n",
    "words = message.split()\n",
    "\n",
    "P_words_spam = 1.0\n",
    "P_words_ham = 1.0\n",
    "for word in words:\n",
    "    if word in spam:\n",
    "        P_words_spam *= spam.count(word) / len(spam)\n",
    "    if word in ham:\n",
    "        P_words_ham *= ham.count(word) / len(ham)\n",
    "\n",
    "P_spam = len(spam) / (len(spam) + len(ham))\n",
    "P_ham = len(ham) / (len(spam) + len(ham))\n",
    "\n",
    "P_message_spam = ((P_words_spam * P_spam) /\n",
    "                  ((P_words_spam * P_spam) + (P_words_ham * P_ham)))\n",
    "print(\"P(M|Spam) = {:.4f}\".format(P_message_spam))"
   ]
  }
 ],
 "metadata": {
  "kernelspec": {
   "display_name": "Python 3",
   "language": "python",
   "name": "python3"
  },
  "language_info": {
   "codemirror_mode": {
    "name": "ipython",
    "version": 3
   },
   "file_extension": ".py",
   "mimetype": "text/x-python",
   "name": "python",
   "nbconvert_exporter": "python",
   "pygments_lexer": "ipython3",
   "version": "3.4.3"
  }
 },
 "nbformat": 4,
 "nbformat_minor": 0
}
