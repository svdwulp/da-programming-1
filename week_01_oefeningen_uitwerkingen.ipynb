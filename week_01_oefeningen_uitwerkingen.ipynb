{
 "cells": [
  {
   "cell_type": "markdown",
   "metadata": {},
   "source": [
    "# Data Analysis - Programming\n",
    "## Week 1\n",
    "## Oefeningen met uitwerkingen\n",
    "\n",
    "Opageve 1. Schrijf een Python programma dat de waarheidstabel van de volgende expressie produceert:  \n",
    "$\\neg{(A \\lor B)}$ (Quine's Dagger)"
   ]
  },
  {
   "cell_type": "code",
   "execution_count": 2,
   "metadata": {
    "collapsed": false
   },
   "outputs": [
    {
     "name": "stdout",
     "output_type": "stream",
     "text": [
      "False False True\n",
      "False True False\n",
      "True False False\n",
      "True True False\n"
     ]
    }
   ],
   "source": [
    "## Opgave 1 - uitwerking\n",
    "for A in [False, True]:\n",
    "    for B in [False, True]:\n",
    "        print(A, B, not(A or B))"
   ]
  },
  {
   "cell_type": "markdown",
   "metadata": {},
   "source": [
    "Opageve 2. De expressies uit opdracht 3 en 4 (in de slides) hebben een eigen naam,  \n",
    "$(\\neg{A}) \\lor B$ wordt ook wel *implicatie* genoemd en genoteerd als $A \\implies B$,  \n",
    "$(A \\lor B) \\land \\neg{(A \\land B)}$ wordt ook wel *exclusieve of* (of *xor*) genoemd en genoteerd als $A \\oplus B$.  \n",
    "<br/>De operator $\\Leftrightarrow$ wordt *equivalentie* (gelijkheid) genoemd.  \n",
    "De expressie $A \\Leftrightarrow B$ levert *alleen* True op, wanneer de waarde van $A$ gelijk is aan die van $B$.  \n",
    "Bedenk een expressie in $A$ en $B$ met behulp van de operatoren *or*, *and* en *not* die precies het resultaat van de operator *equivalentie* oplevert en controleer je expressie met een Python programma.  \n",
    "<table width=\"50%\">\n",
    "  <tr><th>$A$</th><th>$B$</th><th>$A \\Leftrightarrow B$</th></tr>\n",
    "  <tr><td>False</td><td>False</td><td>True</td></tr>\n",
    "  <tr><td>False</td><td>True</td><td>False</td></tr>\n",
    "  <tr><td>True</td><td>False</td><td>False</td></tr>\n",
    "  <tr><td>True</td><td>True</td><td>True</td></tr>\n",
    "</table>"
   ]
  },
  {
   "cell_type": "markdown",
   "metadata": {},
   "source": [
    "*Opgave 2 - uitwerking*  \n",
    "In de onderstaande afleiding wordt om technische reden een iets andere notatie gebruikt:\n",
    "\n",
    "| operator in wiskundige notatie | operator in alternatieve notatie |\n",
    "|:-:|:-:|\n",
    "| $\\neg{}$ | - |\n",
    "| $\\lor$ | &#124; |\n",
    "| $\\land$ | & |\n",
    "\n",
    "Afleiding $A \\Leftrightarrow B$ met behulp van $\\neg{}$, $\\lor$ en $\\land$:\n",
    "\n",
    "A | B | A &#124; B | -(A &#124; B) | A & B | -(A &#124; B) &#124; (A & B)\n",
    ":-:|:-:|   :-:  |    :-:    |  :-:  |         :-:\n",
    " 0 | 0 |    0   |     1     |   0   |        __1__\n",
    " 0 | 1 |    1   |     0     |   0   |        __0__\n",
    " 1 | 0 |    1   |     0     |   0   |        __0__\n",
    " 1 | 1 |    1   |     0     |   1   |        __1__"
   ]
  },
  {
   "cell_type": "markdown",
   "metadata": {},
   "source": [
    "Opageve 3. Strikt genomen zijn de extra operatoren uit opgave 2 niet nodig, want je kunt ze namaken met *or*, *and* en *not*.  \n",
    "Eigenlijk kun je zelfs rondkomen met alleen *or* en *not* !  \n",
    "Bedenk een combinatie van *or* en *not* waarbij de waarheidstabel hetzelfde is als die van *and*. Controleer je expressie met een Python programma.   \n",
    "<table width=\"50%\">\n",
    "  <tr><th>$A$</th><th>$B$</th><th>$A \\land B$</th></tr>\n",
    "  <tr><td>False</td><td>False</td><td>False</td></tr>\n",
    "  <tr><td>False</td><td>True</td><td>False</td></tr>\n",
    "  <tr><td>True</td><td>False</td><td>False</td></tr>\n",
    "  <tr><td>True</td><td>True</td><td>True</td></tr>\n",
    "</table>\n",
    "<br/><br/>"
   ]
  },
  {
   "cell_type": "markdown",
   "metadata": {},
   "source": [
    "*Opgave 3 - uitwerking*  \n",
    "Zie uitwerking opgave 3 voor uitleg over de gebruikte notatie.\n",
    "\n",
    "Afleiding $A \\land B$ met behulp van $\\neg{}$ en $\\lor$:\n",
    "\n",
    "A  | B | -A | -B | -A &#124; -B | -(-A &#124; -B) | A & B\n",
    ":-:|:-:|:-: |:-: |      :-:     |        :-:      |  :-:\n",
    "0  | 0 | 1  | 1  |       1      |       __0__     |   0\n",
    "0  | 1 | 1  | 0  |       1      |       __0__     |   0\n",
    "1  | 0 | 0  | 1  |       1      |       __0__     |   0\n",
    "1  | 1 | 0  | 0  |       0      |       __1__     |   1"
   ]
  },
  {
   "cell_type": "code",
   "execution_count": 3,
   "metadata": {
    "collapsed": false
   },
   "outputs": [
    {
     "name": "stdout",
     "output_type": "stream",
     "text": [
      "False False False False\n",
      "False True False False\n",
      "True False False False\n",
      "True True True True\n"
     ]
    }
   ],
   "source": [
    "## Opgave 3 - uitwerking\n",
    "\n",
    "# controle -(-A | -B) == A & B\n",
    "for A in [False, True]:\n",
    "    for B in [False, True]:\n",
    "        print(A, B, not(not A or not B), A and B)\n",
    "\n",
    "# controle door computer\n",
    "for A in [False, True]:\n",
    "    for B in [False, True]:\n",
    "        if not(not A or not B) != A and B:\n",
    "            print(\"De expressie -(-A | -B) is niet gelijk aan (A & B) voor A\", A, \"en B\", B)"
   ]
  },
  {
   "cell_type": "markdown",
   "metadata": {},
   "source": [
    "Opageve 4. Een *tautologie* is een expressie die altijd *waar* oplevert, ongeacht de invulling van de variabelen.  \n",
    "De uitdrukking $A \\lor \\neg{A}$ is een voorbeeld van een tautologie.  \n",
    "Schrijf Python programma's om te bepalen of de onderstaande uitdrukkingen tautologieën zijn.  \n",
    "*Let op: de implicatie $A \\implies B$ kun je uitrekenen, als in opgave 2 beschreven, met $(\\neg{A}) \\lor B$ *  \n",
    "    1. $(A \\lor B) \\implies (A \\lor B)$  \n",
    "    2. $(A \\lor B) \\implies (A \\land B)$  \n",
    "    3. $(\\neg{A} \\implies B) \\land (\\neg{A} \\implies \\neg{B})$  \n",
    "    4. $((A \\implies B) \\land (B \\implies C)) \\implies (A \\implies C)$"
   ]
  },
  {
   "cell_type": "code",
   "execution_count": 4,
   "metadata": {
    "collapsed": false
   },
   "outputs": [
    {
     "name": "stdout",
     "output_type": "stream",
     "text": [
      "De expressie (A or B) -> (A or B) is een tautologie\n",
      "De expressie (A or B) -> (A and B) is geen tautologie\n",
      "De expressie (-A -> B) and (-A -> -B) is geen tautologie\n",
      "De expressie ((A -> B) and (B -> C)) -> (A -> C) is een tautologie\n"
     ]
    }
   ],
   "source": [
    "## Opgave 4 - uitwerking\n",
    "\n",
    "# controle door computer, (A or B) -> (A or B)\n",
    "# uitdrukking vertaald met -(A or B) or (A or B)\n",
    "is_tautology = True  ## tot het tegendeel bewezen is\n",
    "for A in [False, True]:\n",
    "    for B in [False, True]:\n",
    "        expr = not(A or B) or (A or B)\n",
    "        if not expr:\n",
    "            is_tautology = False\n",
    "if is_tautology:\n",
    "    print(\"De expressie (A or B) -> (A or B) is een tautologie\")\n",
    "else:\n",
    "    print(\"De expressie (A or B) -> (A or B) is geen tautologie\")\n",
    "\n",
    "# controle door computer, (A or B) -> (A and B)\n",
    "# uitdrukking vertaald met -(A or B) or (A and B)\n",
    "is_tautology = True  ## tot het tegendeel bewezen is\n",
    "for A in [False, True]:\n",
    "    for B in [False, True]:\n",
    "        expr = not(A or B) or (A and B)\n",
    "        if not expr:\n",
    "            is_tautology = False\n",
    "if is_tautology:\n",
    "    print(\"De expressie (A or B) -> (A and B) is een tautologie\")\n",
    "else:\n",
    "    print(\"De expressie (A or B) -> (A and B) is geen tautologie\")\n",
    "\n",
    "# controle door computer, (-A -> B) and (-A -> -B)\n",
    "# uitdrukking vertaald met (-(-A) or B) and (-(-A) or -B)\n",
    "is_tautology = True  ## tot het tegendeel bewezen is\n",
    "for A in [False, True]:\n",
    "    for B in [False, True]:\n",
    "        expr = (not(not(A)) or B) and (not(not(A)) or not(B))\n",
    "        if not expr:\n",
    "            is_tautology = False\n",
    "if is_tautology:\n",
    "    print(\"De expressie (-A -> B) and (-A -> -B) is een tautologie\")\n",
    "else:\n",
    "    print(\"De expressie (-A -> B) and (-A -> -B) is geen tautologie\")\n",
    "\n",
    "# controle door computer, ((A -> B) and (B -> C)) -> (A -> C)\n",
    "# uitdrukking vertaald met -((-A or B) and (-B or C)) or (-A or C)\n",
    "is_tautology = True  ## tot het tegendeel bewezen is\n",
    "for A in [False, True]:\n",
    "    for B in [False, True]:\n",
    "        for C in [False, True]:\n",
    "            expr = not((not A or B) and (not B or C)) or (not A or C)\n",
    "            if not expr:\n",
    "                is_tautology = False\n",
    "if is_tautology:\n",
    "    print(\"De expressie ((A -> B) and (B -> C)) -> (A -> C) is een tautologie\")\n",
    "else:\n",
    "    print(\"De expressie ((A -> B) and (B -> C)) -> (A -> C) is geen tautologie\")\n"
   ]
  },
  {
   "cell_type": "code",
   "execution_count": null,
   "metadata": {
    "collapsed": true
   },
   "outputs": [],
   "source": []
  }
 ],
 "metadata": {
  "kernelspec": {
   "display_name": "Python 3",
   "language": "python",
   "name": "python3"
  },
  "language_info": {
   "codemirror_mode": {
    "name": "ipython",
    "version": 3
   },
   "file_extension": ".py",
   "mimetype": "text/x-python",
   "name": "python",
   "nbconvert_exporter": "python",
   "pygments_lexer": "ipython3",
   "version": "3.4.3"
  }
 },
 "nbformat": 4,
 "nbformat_minor": 0
}
